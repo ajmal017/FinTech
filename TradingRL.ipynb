{
  "nbformat": 4,
  "nbformat_minor": 0,
  "metadata": {
    "colab": {
      "name": "TradingRL.ipynb",
      "provenance": [],
      "machine_shape": "hm",
      "authorship_tag": "ABX9TyORsDY3xkZgdOkSxzJcw3Kb",
      "include_colab_link": true
    },
    "kernelspec": {
      "name": "python3",
      "display_name": "Python 3"
    },
    "accelerator": "TPU"
  },
  "cells": [
    {
      "cell_type": "markdown",
      "metadata": {
        "id": "view-in-github",
        "colab_type": "text"
      },
      "source": [
        "<a href=\"https://colab.research.google.com/github/alitootoonchian/FinTech/blob/master/TradingRL.ipynb\" target=\"_parent\"><img src=\"https://colab.research.google.com/assets/colab-badge.svg\" alt=\"Open In Colab\"/></a>"
      ]
    },
    {
      "cell_type": "markdown",
      "metadata": {
        "id": "nSkur8rV_5AU",
        "colab_type": "text"
      },
      "source": [
        "# Setup"
      ]
    },
    {
      "cell_type": "markdown",
      "metadata": {
        "id": "Pkln1fbZ_9GJ",
        "colab_type": "text"
      },
      "source": [
        "## GDrive"
      ]
    },
    {
      "cell_type": "code",
      "metadata": {
        "id": "F-r6lo_tQYtO",
        "colab_type": "code",
        "colab": {
          "base_uri": "https://localhost:8080/",
          "height": 125
        },
        "outputId": "3c6a5370-66d0-437d-dfa7-f4370ad7fdac"
      },
      "source": [
        "from google.colab import drive\n",
        "drive.mount('/content/drive')\n",
        "folder = '/content/drive/My Drive/FintechData/RL/'"
      ],
      "execution_count": 1,
      "outputs": [
        {
          "output_type": "stream",
          "text": [
            "Go to this URL in a browser: https://accounts.google.com/o/oauth2/auth?client_id=947318989803-6bn6qk8qdgf4n4g3pfee6491hc0brc4i.apps.googleusercontent.com&redirect_uri=urn%3aietf%3awg%3aoauth%3a2.0%3aoob&response_type=code&scope=email%20https%3a%2f%2fwww.googleapis.com%2fauth%2fdocs.test%20https%3a%2f%2fwww.googleapis.com%2fauth%2fdrive%20https%3a%2f%2fwww.googleapis.com%2fauth%2fdrive.photos.readonly%20https%3a%2f%2fwww.googleapis.com%2fauth%2fpeopleapi.readonly\n",
            "\n",
            "Enter your authorization code:\n",
            "··········\n",
            "Mounted at /content/drive\n"
          ],
          "name": "stdout"
        }
      ]
    },
    {
      "cell_type": "markdown",
      "metadata": {
        "id": "DSRWIYmAABc6",
        "colab_type": "text"
      },
      "source": [
        "## TensorFlow Version"
      ]
    },
    {
      "cell_type": "code",
      "metadata": {
        "id": "MBmOwZ-LFwp-",
        "colab_type": "code",
        "colab": {}
      },
      "source": [
        "%tensorflow_version 1.x"
      ],
      "execution_count": 0,
      "outputs": []
    },
    {
      "cell_type": "markdown",
      "metadata": {
        "id": "UJ5I6lKDAHAv",
        "colab_type": "text"
      },
      "source": [
        "## Import Libraray"
      ]
    },
    {
      "cell_type": "code",
      "metadata": {
        "id": "IspzTcx73LNH",
        "colab_type": "code",
        "colab": {
          "base_uri": "https://localhost:8080/",
          "height": 34
        },
        "outputId": "756a2fed-f7e3-4f3e-80ab-d1281fd002b0"
      },
      "source": [
        "import random\n",
        "import os\n",
        "import math\n",
        "import logging\n",
        "import pandas as pd\n",
        "import numpy as np\n",
        "import tensorflow as tf\n",
        "import keras.backend as K\n",
        "import matplotlib.pyplot as plt\n",
        "import datetime as dt\n",
        "import pandas_datareader.data  as pdr\n",
        "\n",
        "from collections import deque\n",
        "from keras.models import Sequential\n",
        "from keras.models import load_model, clone_model\n",
        "from keras.layers import Dense\n",
        "from keras.optimizers import Adam\n",
        "from tqdm import tqdm\n",
        "from pandas.plotting import register_matplotlib_converters\n",
        "\n",
        "register_matplotlib_converters()\n",
        "plt.style.use('fivethirtyeight')\n",
        "plt.rcParams['figure.figsize'] = [16, 8]\n"
      ],
      "execution_count": 3,
      "outputs": [
        {
          "output_type": "stream",
          "text": [
            "Using TensorFlow backend.\n"
          ],
          "name": "stderr"
        }
      ]
    },
    {
      "cell_type": "markdown",
      "metadata": {
        "id": "XjeHpB40ARsI",
        "colab_type": "text"
      },
      "source": [
        "# Renforcmenet Learning"
      ]
    },
    {
      "cell_type": "markdown",
      "metadata": {
        "id": "Cglu6RPRSk9T",
        "colab_type": "text"
      },
      "source": [
        "## Utils"
      ]
    },
    {
      "cell_type": "code",
      "metadata": {
        "id": "l7ZyNYKmSqso",
        "colab_type": "code",
        "colab": {}
      },
      "source": [
        "# Formats Position\n",
        "format_position = lambda price: ('-$' if price < 0 else '+$') + '{0:.2f}'.format(abs(price))\n",
        "\n",
        "\n",
        "# Formats Currency\n",
        "format_currency = lambda price: '${0:.2f}'.format(abs(price))\n",
        "\n",
        "\n",
        "def show_train_result(result, val_position, initial_offset):\n",
        "    ''' \n",
        "    Displays training results\n",
        "    '''\n",
        "    if val_position == initial_offset or val_position == 0.0:\n",
        "        print('Episode {}/{} - Train Position: {}  Val Position: USELESS  Train Loss: {:.4f}'\n",
        "                     .format(result[0], result[1], format_position(result[2]), result[3]))\n",
        "    else:\n",
        "        print('Episode {}/{} - Train Position: {}  Val Position: {}  Train Loss: {:.4f})'\n",
        "                     .format(result[0], result[1], format_position(result[2]), format_position(val_position), result[3],))\n",
        "\n",
        "\n",
        "def show_eval_result(model_name, profit, initial_offset):\n",
        "    '''\n",
        "    Displays eval results\n",
        "    '''\n",
        "    if profit == initial_offset or profit == 0.0:\n",
        "        print('{}: USELESS\\n'.format(model_name))\n",
        "    else:\n",
        "        print('{}: {}\\n'.format(model_name, format_position(profit)))\n",
        "\n",
        "def switch_k_backend_device():\n",
        "    '''\n",
        "    Switches `keras` backend from GPU to CPU if required.\n",
        "    Faster computation on CPU (if using tensorflow-gpu).\n",
        "    '''\n",
        "    if K.backend() == \"tensorflow\":\n",
        "        logging.debug(\"switching to TensorFlow for CPU\")\n",
        "        os.environ[\"CUDA_VISIBLE_DEVICES\"] = \"-1\"\n"
      ],
      "execution_count": 0,
      "outputs": []
    },
    {
      "cell_type": "markdown",
      "metadata": {
        "id": "ut_CK7NoR0nn",
        "colab_type": "text"
      },
      "source": [
        "## Agent"
      ]
    },
    {
      "cell_type": "code",
      "metadata": {
        "id": "oEME0shrPzFu",
        "colab_type": "code",
        "colab": {}
      },
      "source": [
        "\n",
        "class Agent:\n",
        "    ''' \n",
        "    Stock Trading Bot \n",
        "    '''\n",
        "\n",
        "    def __init__(self, \n",
        "                 state_size, \n",
        "                 strategy=\"t-dqn\", \n",
        "                 reset_every=1000, \n",
        "                 pretrained=False, \n",
        "                 model_name=None):\n",
        "        self.strategy = strategy\n",
        "\n",
        "        # agent config\n",
        "        self.state_size = state_size    \t# normalized previous days\n",
        "        self.action_size = 3           \t\t# [sit, buy, sell]\n",
        "        self.model_name = model_name\n",
        "        self.inventory = []\n",
        "        self.memory = deque(maxlen=10000)\n",
        "        self.first_iter = True\n",
        "\n",
        "        # model config\n",
        "        self.model_name = model_name\n",
        "        self.gamma = 0.95 # affinity for long term reward\n",
        "        self.epsilon = 1.0\n",
        "        self.epsilon_min = 0.01\n",
        "        self.epsilon_decay = 0.995\n",
        "        self.learning_rate = 0.001\n",
        "        self.loss = huber_loss\n",
        "        self.custom_objects = {\"huber_loss\": huber_loss}  # important for loading the model from memory\n",
        "        self.optimizer = Adam(lr=self.learning_rate)\n",
        "\n",
        "        if pretrained and self.model_name is not None:\n",
        "            self.model = self.load()\n",
        "        else:\n",
        "            self.model = self._model()\n",
        "\n",
        "        # strategy config\n",
        "        if self.strategy in [\"t-dqn\", \"double-dqn\"]:\n",
        "            self.n_iter = 1\n",
        "            self.reset_every = reset_every\n",
        "\n",
        "            # target network\n",
        "            self.target_model = clone_model(self.model)\n",
        "            self.target_model.set_weights(self.model.get_weights())\n",
        "\n",
        "    def huber_loss(y_true, y_pred, clip_delta=1.0):\n",
        "        '''\n",
        "        Huber loss - Custom Loss Function for Q Learning\n",
        "        Links: \thttps://en.wikipedia.org/wiki/Huber_loss\n",
        "                https://jaromiru.com/2017/05/27/on-using-huber-loss-in-deep-q-learning/\n",
        "        '''\n",
        "        error = y_true - y_pred\n",
        "        cond = K.abs(error) <= clip_delta\n",
        "        squared_loss = 0.5 * K.square(error)\n",
        "        quadratic_loss = 0.5 * K.square(clip_delta) + clip_delta * (K.abs(error) - clip_delta)\n",
        "        return K.mean(tf.where(cond, squared_loss, quadratic_loss))\n",
        "\n",
        "    def _model(self):\n",
        "        '''\n",
        "        Creates the model\n",
        "        '''\n",
        "        model = Sequential()\n",
        "        model.add(Dense(units=128, activation=\"relu\", input_dim=self.state_size))\n",
        "        model.add(Dense(units=256, activation=\"relu\"))\n",
        "        model.add(Dense(units=256, activation=\"relu\"))\n",
        "        model.add(Dense(units=128, activation=\"relu\"))\n",
        "        model.add(Dense(units=self.action_size))\n",
        "\n",
        "        model.compile(loss=self.loss, optimizer=self.optimizer)\n",
        "        return model\n",
        "\n",
        "    def remember(self, state, action, reward, next_state, done):\n",
        "        '''\n",
        "        Adds relevant data to memory\n",
        "        '''\n",
        "        self.memory.append((state, action, reward, next_state, done))\n",
        "\n",
        "    def act(self, state, is_eval=False):\n",
        "        '''\n",
        "        Take action from given possible set of actions\n",
        "        '''\n",
        "        # take random action in order to diversify experience at the beginning\n",
        "        if not is_eval and random.random() <= self.epsilon:\n",
        "            return random.randrange(self.action_size)\n",
        "\n",
        "        if self.first_iter:\n",
        "            self.first_iter = False\n",
        "            return 1 # make a definite buy on the first iter\n",
        "\n",
        "        action_probs = self.model.predict(state)\n",
        "        return np.argmax(action_probs[0])\n",
        "\n",
        "    def train_experience_replay(self, batch_size):\n",
        "        '''\n",
        "        Train on previous experiences in memory\n",
        "        '''\n",
        "        mini_batch = random.sample(self.memory, batch_size)\n",
        "        X_train, y_train = [], []\n",
        "        \n",
        "        # DQN\n",
        "        if self.strategy == \"dqn\":\n",
        "            for state, action, reward, next_state, done in mini_batch:\n",
        "                if done:\n",
        "                    target = reward\n",
        "                else:\n",
        "                    # approximate deep q-learning equation\n",
        "                    target = reward + self.gamma * np.amax(self.model.predict(next_state)[0])\n",
        "\n",
        "                # estimate q-values based on current state\n",
        "                q_values = self.model.predict(state)\n",
        "                # update the target for current action based on discounted reward\n",
        "                q_values[0][action] = target\n",
        "\n",
        "                X_train.append(state[0])\n",
        "                y_train.append(q_values[0])\n",
        "\n",
        "        # DQN with fixed targets\n",
        "        elif self.strategy == \"t-dqn\":\n",
        "            if self.n_iter % self.reset_every == 0:\n",
        "                # reset target model weights\n",
        "                self.target_model.set_weights(self.model.get_weights())\n",
        "\n",
        "            for state, action, reward, next_state, done in mini_batch:\n",
        "                if done:\n",
        "                    target = reward\n",
        "                else:\n",
        "                    # approximate deep q-learning equation with fixed targets\n",
        "                    target = reward + self.gamma * np.amax(self.target_model.predict(next_state)[0])\n",
        "\n",
        "                # estimate q-values based on current state\n",
        "                q_values = self.model.predict(state)\n",
        "                # update the target for current action based on discounted reward\n",
        "                q_values[0][action] = target\n",
        "\n",
        "                X_train.append(state[0])\n",
        "                y_train.append(q_values[0])\n",
        "\n",
        "        # Double DQN\n",
        "        elif self.strategy == \"double-dqn\":\n",
        "            if self.n_iter % self.reset_every == 0:\n",
        "                # reset target model weights\n",
        "                self.target_model.set_weights(self.model.get_weights())\n",
        "\n",
        "            for state, action, reward, next_state, done in mini_batch:\n",
        "                if done:\n",
        "                    target = reward\n",
        "                else:\n",
        "                    # approximate double deep q-learning equation\n",
        "                    target = reward + self.gamma * self.target_model.predict(next_state)[0][np.argmax(self.model.predict(next_state)[0])]\n",
        "\n",
        "                # estimate q-values based on current state\n",
        "                q_values = self.model.predict(state)\n",
        "                # update the target for current action based on discounted reward\n",
        "                q_values[0][action] = target\n",
        "\n",
        "                X_train.append(state[0])\n",
        "                y_train.append(q_values[0])\n",
        "                \n",
        "        else:\n",
        "            raise NotImplementedError()\n",
        "\n",
        "        # update q-function parameters based on huber loss gradient\n",
        "        loss = self.model.fit(\n",
        "            np.array(X_train),\n",
        "            np.array(y_train),\n",
        "            epochs=1, verbose=0\n",
        "        ).history[\"loss\"][0]\n",
        "\n",
        "        # as the training goes on we want the agent to\n",
        "        # make less random and more optimal decisions\n",
        "        if self.epsilon > self.epsilon_min:\n",
        "            self.epsilon *= self.epsilon_decay\n",
        "\n",
        "        return loss\n",
        "\n",
        "    def save(self, episode):\n",
        "        self.model.save(folder + \"models/{}_{}\".format(self.model_name, episode))\n",
        "\n",
        "    def load(self):\n",
        "        return load_model(folder + \"models/\" + self.model_name, custom_objects=self.custom_objects)"
      ],
      "execution_count": 0,
      "outputs": []
    },
    {
      "cell_type": "markdown",
      "metadata": {
        "id": "W7Qeczs1R6ox",
        "colab_type": "text"
      },
      "source": [
        "## Model"
      ]
    },
    {
      "cell_type": "code",
      "metadata": {
        "id": "WZ2UGnx-SLHK",
        "colab_type": "code",
        "colab": {}
      },
      "source": [
        "class Model():\n",
        "\n",
        "    def __init__(self, ep_count=100, batch_size=32, window_size=10):\n",
        "        self.ep_count = ep_count\n",
        "        self.batch_size = batch_size\n",
        "        self.window_size = window_size\n",
        "\n",
        "    def set_agent(self, agent):\n",
        "        self.agent = agent\n",
        "\n",
        "    def sigmoid(self, x):\n",
        "        \"\"\"\n",
        "        Performs sigmoid operation\n",
        "        \"\"\"\n",
        "        try:\n",
        "            if x < 0:\n",
        "                return 1 - 1 / (1 + math.exp(x))\n",
        "            return 1 / (1 + math.exp(-x))\n",
        "        except Exception as err:\n",
        "            print(\"Error in sigmoid: \" + err)\n",
        "\n",
        "\n",
        "    def get_state(self, data, t, n_days):\n",
        "        \"\"\"\n",
        "        Returns an n-day state representation ending at time t\n",
        "        \"\"\"\n",
        "        d = t - n_days + 1\n",
        "        block = data[d: t + 1] if d >= 0 else -d * [data[0]] + data[0: t + 1]  # pad with t0\n",
        "        res = []\n",
        "        for i in range(n_days - 1):\n",
        "            res.append(self.sigmoid(block[i + 1] - block[i]))\n",
        "        return np.array([res])\n",
        "\n",
        "\n",
        "    def train(self, episode, data):\n",
        "        total_profit = 0\n",
        "        data_length = len(data) - 1\n",
        "\n",
        "        self.agent.inventory = []\n",
        "        avg_loss = []\n",
        "\n",
        "        state = self.get_state(data, 0, self.window_size + 1)\n",
        "\n",
        "        for t in tqdm(range(data_length), total=data_length, leave=True, desc='Episode {}/{}'.format(episode, self.ep_count)):        \n",
        "            reward = 0\n",
        "            next_state = self.get_state(data, t + 1, window_size + 1)\n",
        "\n",
        "            # select an action\n",
        "            action = self.agent.act(state)\n",
        "\n",
        "            # BUY\n",
        "            if action == 1:\n",
        "                self.agent.inventory.append(data[t])\n",
        "\n",
        "            # SELL\n",
        "            elif action == 2 and len(self.agent.inventory) > 0:\n",
        "                bought_price = self.agent.inventory.pop(0)\n",
        "                delta = data[t] - bought_price\n",
        "                reward = delta #max(delta, 0)\n",
        "                total_profit += delta\n",
        "\n",
        "            # HOLD\n",
        "            else:\n",
        "                pass\n",
        "\n",
        "            done = (t == data_length - 1)\n",
        "            self.agent.remember(state, action, reward, next_state, done)\n",
        "\n",
        "            if len(self.agent.memory) > batch_size:\n",
        "                loss = self.agent.train_experience_replay(self.batch_size)\n",
        "                avg_loss.append(loss)\n",
        "\n",
        "            state = next_state\n",
        "\n",
        "        if episode % 10 == 0:\n",
        "            self.agent.save(episode)\n",
        "\n",
        "        return (episode, self.ep_count, total_profit, np.mean(np.array(avg_loss)))\n",
        "\n",
        "\n",
        "    def evaluate(self, data):\n",
        "        total_profit = 0\n",
        "        data_length = len(data) - 1\n",
        "\n",
        "        history = []\n",
        "        self.agent.inventory = []\n",
        "        \n",
        "        state = self.get_state(data, 0, self.window_size + 1)\n",
        "\n",
        "        for t in range(data_length):        \n",
        "            reward = 0\n",
        "            next_state = self.get_state(data, t + 1, window_size + 1)\n",
        "            # select an action\n",
        "            action = self.agent.act(state, is_eval=True)\n",
        "\n",
        "            # BUY\n",
        "            if action == 1:\n",
        "                self.agent.inventory.append(data[t])\n",
        "                history.append((data[t], \"BUY\", total_profit))\n",
        "            # SELL\n",
        "            elif action == 2 and len(self.agent.inventory) > 0:\n",
        "                bought_price = self.agent.inventory.pop(0)\n",
        "                delta = data[t] - bought_price\n",
        "                reward = delta #max(delta, 0)\n",
        "                total_profit += delta\n",
        "                history.append((data[t], \"SELL\", total_profit))\n",
        "            # HOLD\n",
        "            else:\n",
        "                history.append((data[t], \"HOLD\", total_profit))\n",
        "\n",
        "            done = (t == data_length - 1)\n",
        "            self.agent.memory.append((state, action, reward, next_state, done))\n",
        "\n",
        "            state = next_state\n",
        "            if done:\n",
        "                return total_profit, history\n"
      ],
      "execution_count": 0,
      "outputs": []
    },
    {
      "cell_type": "markdown",
      "metadata": {
        "id": "ef42-H0XTdUy",
        "colab_type": "text"
      },
      "source": [
        "# Main"
      ]
    },
    {
      "cell_type": "markdown",
      "metadata": {
        "id": "Ojhrs9n7Cb9Y",
        "colab_type": "text"
      },
      "source": [
        "## Parameters"
      ]
    },
    {
      "cell_type": "code",
      "metadata": {
        "id": "AuoleSWjTaYh",
        "colab_type": "code",
        "colab": {}
      },
      "source": [
        "ticker = \"GOOG\"\n",
        "end_date = dt.date(2019, 12, 29)\n",
        "start_date = end_date - dt.timedelta(365 * 20)\n",
        "data = pdr.get_data_yahoo(ticker, start_date, end_date) \n",
        "valid_size_percentage = 10\n",
        "test_size_percentage = 10\n",
        "valid_size = int(valid_size_percentage/100 * data.shape[0])\n",
        "test_size = int(test_size_percentage/100 * data.shape[0])\n",
        "train_size = data.shape[0] - valid_size - test_size\n",
        "window_size = 10\n",
        "batch_size = 32\n",
        "ep_count = 20\n",
        "strategy = \"t-dqn\"\n",
        "model_name = \"model_debug\"\n",
        "model_name_eval = model_name + \"_\" + str(ep_count)"
      ],
      "execution_count": 0,
      "outputs": []
    },
    {
      "cell_type": "markdown",
      "metadata": {
        "id": "LwoRvTNjUpMY",
        "colab_type": "text"
      },
      "source": [
        "## Train\n"
      ]
    },
    {
      "cell_type": "markdown",
      "metadata": {
        "id": "z1T7NT-7U4ZV",
        "colab_type": "text"
      },
      "source": [
        "Trains the stock trading bot using Deep Q-Learning.\n",
        "Please see https://arxiv.org/abs/1312.5602 for more details.\n",
        "Args: [python train.py --help]"
      ]
    },
    {
      "cell_type": "code",
      "metadata": {
        "id": "O5Yi7UrHU6a5",
        "colab_type": "code",
        "colab": {
          "base_uri": "https://localhost:8080/",
          "height": 727
        },
        "outputId": "17908171-2bdc-40b7-bce1-3aa686217ed9"
      },
      "source": [
        "agent = Agent(window_size, strategy=strategy, pretrained=False, model_name=model_name)\n",
        "model = Model(ep_count=ep_count, batch_size=batch_size, window_size=window_size)\n",
        "model.set_agent(agent)\n",
        "\n",
        "train_data = list(data[:train_size]['Adj Close'])\n",
        "val_data = list(data[train_size:train_size+valid_size]['Adj Close'])\n",
        "\n",
        "initial_offset = val_data[1] - val_data[0]\n",
        "\n",
        "for episode in range(1, ep_count + 1):\n",
        "    train_result = model.train(episode, train_data)\n",
        "    val_result, _ = model.evaluate(val_data)\n",
        "    show_train_result(train_result, val_result, initial_offset)\n"
      ],
      "execution_count": 29,
      "outputs": [
        {
          "output_type": "stream",
          "text": [
            "Episode 1/20: 100%|██████████| 3094/3094 [02:00<00:00, 25.71it/s]\n",
            "Episode 2/20:   0%|          | 3/3094 [00:00<01:58, 26.11it/s]"
          ],
          "name": "stderr"
        },
        {
          "output_type": "stream",
          "text": [
            "Episode 1/20 - Train Position: +$11464.45  Val Position: +$1863.96  Train Loss: 1.1692)\n"
          ],
          "name": "stdout"
        },
        {
          "output_type": "stream",
          "text": [
            "Episode 2/20: 100%|██████████| 3094/3094 [02:00<00:00, 25.69it/s]\n",
            "Episode 3/20:   0%|          | 3/3094 [00:00<01:59, 25.80it/s]"
          ],
          "name": "stderr"
        },
        {
          "output_type": "stream",
          "text": [
            "Episode 2/20 - Train Position: +$9725.87  Val Position: +$1633.88  Train Loss: 1.7485)\n"
          ],
          "name": "stdout"
        },
        {
          "output_type": "stream",
          "text": [
            "Episode 3/20: 100%|██████████| 3094/3094 [01:58<00:00, 26.06it/s]\n",
            "Episode 4/20:   0%|          | 3/3094 [00:00<01:59, 25.88it/s]"
          ],
          "name": "stderr"
        },
        {
          "output_type": "stream",
          "text": [
            "Episode 3/20 - Train Position: +$13109.42  Val Position: +$137.93  Train Loss: 1.7591)\n"
          ],
          "name": "stdout"
        },
        {
          "output_type": "stream",
          "text": [
            "Episode 4/20: 100%|██████████| 3094/3094 [01:59<00:00, 25.98it/s]\n",
            "Episode 5/20:   0%|          | 3/3094 [00:00<02:08, 24.05it/s]"
          ],
          "name": "stderr"
        },
        {
          "output_type": "stream",
          "text": [
            "Episode 4/20 - Train Position: +$17187.66  Val Position: +$6224.51  Train Loss: 1.8102)\n"
          ],
          "name": "stdout"
        },
        {
          "output_type": "stream",
          "text": [
            "Episode 5/20: 100%|██████████| 3094/3094 [01:56<00:00, 26.48it/s]\n",
            "Episode 6/20:   0%|          | 3/3094 [00:00<01:56, 26.58it/s]"
          ],
          "name": "stderr"
        },
        {
          "output_type": "stream",
          "text": [
            "Episode 5/20 - Train Position: +$12430.46  Val Position: +$1978.39  Train Loss: 2.0205)\n"
          ],
          "name": "stdout"
        },
        {
          "output_type": "stream",
          "text": [
            "Episode 6/20: 100%|██████████| 3094/3094 [01:54<00:00, 27.09it/s]\n",
            "Episode 7/20:   0%|          | 3/3094 [00:00<01:55, 26.69it/s]"
          ],
          "name": "stderr"
        },
        {
          "output_type": "stream",
          "text": [
            "Episode 6/20 - Train Position: +$15910.79  Val Position: +$2693.93  Train Loss: 1.9716)\n"
          ],
          "name": "stdout"
        },
        {
          "output_type": "stream",
          "text": [
            "Episode 7/20: 100%|██████████| 3094/3094 [01:54<00:00, 26.98it/s]\n",
            "Episode 8/20:   0%|          | 3/3094 [00:00<01:53, 27.22it/s]"
          ],
          "name": "stderr"
        },
        {
          "output_type": "stream",
          "text": [
            "Episode 7/20 - Train Position: +$16524.27  Val Position: +$4701.33  Train Loss: 1.9314)\n"
          ],
          "name": "stdout"
        },
        {
          "output_type": "stream",
          "text": [
            "Episode 8/20: 100%|██████████| 3094/3094 [01:54<00:00, 27.05it/s]\n",
            "Episode 9/20:   0%|          | 3/3094 [00:00<01:59, 25.84it/s]"
          ],
          "name": "stderr"
        },
        {
          "output_type": "stream",
          "text": [
            "Episode 8/20 - Train Position: +$15691.84  Val Position: +$1740.03  Train Loss: 1.8479)\n"
          ],
          "name": "stdout"
        },
        {
          "output_type": "stream",
          "text": [
            "Episode 9/20: 100%|██████████| 3094/3094 [01:54<00:00, 27.02it/s]\n",
            "Episode 10/20:   0%|          | 3/3094 [00:00<01:52, 27.49it/s]"
          ],
          "name": "stderr"
        },
        {
          "output_type": "stream",
          "text": [
            "Episode 9/20 - Train Position: +$17626.29  Val Position: +$592.72  Train Loss: 1.9705)\n"
          ],
          "name": "stdout"
        },
        {
          "output_type": "stream",
          "text": [
            "Episode 10/20: 100%|██████████| 3094/3094 [01:55<00:00, 26.79it/s]\n",
            "Episode 11/20:   0%|          | 3/3094 [00:00<01:56, 26.45it/s]"
          ],
          "name": "stderr"
        },
        {
          "output_type": "stream",
          "text": [
            "Episode 10/20 - Train Position: +$25637.78  Val Position: +$8598.41  Train Loss: 1.9902)\n"
          ],
          "name": "stdout"
        },
        {
          "output_type": "stream",
          "text": [
            "Episode 11/20: 100%|██████████| 3094/3094 [01:54<00:00, 26.99it/s]\n",
            "Episode 12/20:   0%|          | 3/3094 [00:00<01:59, 25.84it/s]"
          ],
          "name": "stderr"
        },
        {
          "output_type": "stream",
          "text": [
            "Episode 11/20 - Train Position: +$21071.30  Val Position: +$194.18  Train Loss: 2.2102)\n"
          ],
          "name": "stdout"
        },
        {
          "output_type": "stream",
          "text": [
            "Episode 12/20: 100%|██████████| 3094/3094 [01:55<00:00, 26.86it/s]\n",
            "Episode 13/20:   0%|          | 3/3094 [00:00<01:50, 28.01it/s]"
          ],
          "name": "stderr"
        },
        {
          "output_type": "stream",
          "text": [
            "Episode 12/20 - Train Position: +$18220.11  Val Position: +$1345.55  Train Loss: 2.1011)\n"
          ],
          "name": "stdout"
        },
        {
          "output_type": "stream",
          "text": [
            "Episode 13/20: 100%|██████████| 3094/3094 [01:54<00:00, 26.92it/s]\n",
            "Episode 14/20:   0%|          | 3/3094 [00:00<01:57, 26.40it/s]"
          ],
          "name": "stderr"
        },
        {
          "output_type": "stream",
          "text": [
            "Episode 13/20 - Train Position: +$18423.16  Val Position: +$8947.41  Train Loss: 1.9250)\n"
          ],
          "name": "stdout"
        },
        {
          "output_type": "stream",
          "text": [
            "Episode 14/20: 100%|██████████| 3094/3094 [01:55<00:00, 26.83it/s]\n",
            "Episode 15/20:   0%|          | 3/3094 [00:00<01:53, 27.25it/s]"
          ],
          "name": "stderr"
        },
        {
          "output_type": "stream",
          "text": [
            "Episode 14/20 - Train Position: +$21024.66  Val Position: +$9595.25  Train Loss: 1.6900)\n"
          ],
          "name": "stdout"
        },
        {
          "output_type": "stream",
          "text": [
            "Episode 15/20: 100%|██████████| 3094/3094 [01:54<00:00, 26.99it/s]\n",
            "Episode 16/20:   0%|          | 3/3094 [00:00<01:53, 27.19it/s]"
          ],
          "name": "stderr"
        },
        {
          "output_type": "stream",
          "text": [
            "Episode 15/20 - Train Position: +$20165.54  Val Position: +$224.62  Train Loss: 1.8130)\n"
          ],
          "name": "stdout"
        },
        {
          "output_type": "stream",
          "text": [
            "Episode 16/20: 100%|██████████| 3094/3094 [01:54<00:00, 27.07it/s]\n",
            "Episode 17/20:   0%|          | 3/3094 [00:00<01:52, 27.38it/s]"
          ],
          "name": "stderr"
        },
        {
          "output_type": "stream",
          "text": [
            "Episode 16/20 - Train Position: +$19130.72  Val Position: +$147.38  Train Loss: 1.8716)\n"
          ],
          "name": "stdout"
        },
        {
          "output_type": "stream",
          "text": [
            "Episode 17/20: 100%|██████████| 3094/3094 [01:54<00:00, 27.10it/s]\n",
            "Episode 18/20:   0%|          | 3/3094 [00:00<01:52, 27.47it/s]"
          ],
          "name": "stderr"
        },
        {
          "output_type": "stream",
          "text": [
            "Episode 17/20 - Train Position: +$21993.90  Val Position: +$13528.88  Train Loss: 1.7001)\n"
          ],
          "name": "stdout"
        },
        {
          "output_type": "stream",
          "text": [
            "Episode 18/20: 100%|██████████| 3094/3094 [01:55<00:00, 26.83it/s]\n",
            "Episode 19/20:   0%|          | 3/3094 [00:00<01:51, 27.80it/s]"
          ],
          "name": "stderr"
        },
        {
          "output_type": "stream",
          "text": [
            "Episode 18/20 - Train Position: +$16947.66  Val Position: +$1528.34  Train Loss: 1.7059)\n"
          ],
          "name": "stdout"
        },
        {
          "output_type": "stream",
          "text": [
            "Episode 19/20: 100%|██████████| 3094/3094 [01:53<00:00, 27.32it/s]\n",
            "Episode 20/20:   0%|          | 3/3094 [00:00<01:55, 26.67it/s]"
          ],
          "name": "stderr"
        },
        {
          "output_type": "stream",
          "text": [
            "Episode 19/20 - Train Position: +$20135.34  Val Position: +$9542.82  Train Loss: 1.6557)\n"
          ],
          "name": "stdout"
        },
        {
          "output_type": "stream",
          "text": [
            "Episode 20/20: 100%|██████████| 3094/3094 [01:56<00:00, 27.55it/s]\n"
          ],
          "name": "stderr"
        },
        {
          "output_type": "stream",
          "text": [
            "Episode 20/20 - Train Position: +$17961.84  Val Position: +$7776.18  Train Loss: 1.8360)\n"
          ],
          "name": "stdout"
        }
      ]
    },
    {
      "cell_type": "markdown",
      "metadata": {
        "id": "djRsbX3Jx9GC",
        "colab_type": "text"
      },
      "source": [
        "## Evaluation"
      ]
    },
    {
      "cell_type": "code",
      "metadata": {
        "id": "VF9B_Uj4ycRp",
        "colab_type": "code",
        "colab": {
          "base_uri": "https://localhost:8080/",
          "height": 52
        },
        "outputId": "7765ef33-8b92-4bef-fe10-fd3c2ba44c2b"
      },
      "source": [
        "agent = Agent(window_size, pretrained=True, model_name=model_name_eval)\n",
        "model.set_agent(agent)\n",
        "switch_k_backend_device()\n",
        "test_data = list(data[-test_size:]['Adj Close'])\n",
        "initial_offset = test_data[1] - test_data[0]\n",
        "test_result, history = model.evaluate(test_data)\n",
        "show_eval_result(model_name, test_result, initial_offset)\n",
        "history.append((None, None, None))\n",
        "#display(history)\n",
        "#display(test_result)"
      ],
      "execution_count": 30,
      "outputs": [
        {
          "output_type": "stream",
          "text": [
            "model_debug: +$7451.76\n",
            "\n"
          ],
          "name": "stdout"
        }
      ]
    },
    {
      "cell_type": "markdown",
      "metadata": {
        "id": "XCwiQpmSEx97",
        "colab_type": "text"
      },
      "source": [
        "### Result"
      ]
    },
    {
      "cell_type": "code",
      "metadata": {
        "id": "IRgGwiA8yY9V",
        "colab_type": "code",
        "colab": {
          "base_uri": "https://localhost:8080/",
          "height": 34
        },
        "outputId": "bb15626f-0f01-45c7-8c94-6e0c94634868"
      },
      "source": [
        "print (\"Profit:\", test_result)\n",
        "# read csv into dataframe\n",
        "result = pd.DataFrame({'price': data[-test_size:]['Adj Close'].values})\n",
        "result['signal'] = [h[1] for h in history]\n",
        "result['PnL'] = [h[2] for h in history]\n",
        "result['buy'] = result['signal'] == 'BUY'\n",
        "result['sell'] = result['signal'] == 'SELL'\n",
        "result.dropna(inplace=True)"
      ],
      "execution_count": 37,
      "outputs": [
        {
          "output_type": "stream",
          "text": [
            "Profit: 7451.760559082031\n"
          ],
          "name": "stdout"
        }
      ]
    },
    {
      "cell_type": "markdown",
      "metadata": {
        "id": "4H8P-4JZE3zP",
        "colab_type": "text"
      },
      "source": [
        "### Visualization"
      ]
    },
    {
      "cell_type": "code",
      "metadata": {
        "id": "M7l5U6Z8-JL_",
        "colab_type": "code",
        "colab": {
          "base_uri": "https://localhost:8080/",
          "height": 451
        },
        "outputId": "dbb9c368-edc5-4fc4-ea8a-4a51669bbc00"
      },
      "source": [
        "plt_data = result\n",
        "index = plt_data['price'].index\n",
        "fig, ax1 = plt.subplots()\n",
        "ax1.plot(index, plt_data['price'], 'b-', linewidth=2) \n",
        "ax1.set_ylabel('price', color='b')\n",
        "\n",
        "# Plot the buy signals\n",
        "ax1.plot(plt_data.loc[plt_data.buy].index, plt_data['price'][plt_data.buy], 'o', markersize=5, color='g', label='buy')\n",
        "\n",
        "# Plot the sell signals\n",
        "ax1.plot(plt_data.loc[plt_data.sell].index, plt_data['price'][plt_data.sell], 'o', markersize=5, color='r', label='sell')\n",
        "plt.legend()\n",
        "\n",
        "fig.autofmt_xdate()\n",
        "\n",
        "ax2 = ax1.twinx()\n",
        "ax2.plot(index, plt_data['PnL'], 'c-', linewidth=2) \n",
        "ax2.set_ylabel('Profit', color='c')\n",
        "\n",
        "plt.show()"
      ],
      "execution_count": 41,
      "outputs": [
        {
          "output_type": "display_data",
          "data": {
            "image/png": "[encoded data removed]",
            "text/plain": [
              "<Figure size 1152x576 with 2 Axes>"
            ]
          },
          "metadata": {
            "tags": []
          }
        }
      ]
    },
    {
      "cell_type": "code",
      "metadata": {
        "id": "FnP7RX9pUTtT",
        "colab_type": "code",
        "colab": {}
      },
      "source": [
        ""
      ],
      "execution_count": 0,
      "outputs": []
    }
  ]
}