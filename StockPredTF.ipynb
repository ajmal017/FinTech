{
  "nbformat": 4,
  "nbformat_minor": 0,
  "metadata": {
    "colab": {
      "name": "StockPredTF",
      "provenance": [],
      "authorship_tag": "ABX9TyMUGHKoavpWqYcdyCL93eTY",
      "include_colab_link": true
    },
    "kernelspec": {
      "name": "python3",
      "display_name": "Python 3"
    }
  },
  "cells": [
    {
      "cell_type": "markdown",
      "metadata": {
        "id": "view-in-github",
        "colab_type": "text"
      },
      "source": [
        "<a href=\"https://colab.research.google.com/github/alitootoonchian/FinTech/blob/master/StockPredTF.ipynb\" target=\"_parent\"><img src=\"https://colab.research.google.com/assets/colab-badge.svg\" alt=\"Open In Colab\"/></a>"
      ]
    },
    {
      "cell_type": "code",
      "metadata": {
        "id": "ppfZtZuOPmIU",
        "colab_type": "code",
        "colab": {}
      },
      "source": [
        "import numpy as np\n",
        "import pandas as pd\n",
        "import math\n",
        "import sklearn\n",
        "import sklearn.preprocessing\n",
        "import datetime as dt\n",
        "import os\n",
        "import matplotlib.pyplot as plt\n",
        "import tensorflow as tf\n",
        "import pandas_datareader.data  as pdr\n",
        "plt.style.use('fivethirtyeight')\n",
        "plt.rcParams['figure.figsize'] = [12, 6]\n"
      ],
      "execution_count": 0,
      "outputs": []
    },
    {
      "cell_type": "code",
      "metadata": {
        "id": "hR_8hJAORvCJ",
        "colab_type": "code",
        "colab": {}
      },
      "source": [
        "training_days = 20\n",
        "total_years = 20\n",
        "total_dates = total_years * 365\n",
        "training_itmes = (int)(total_years * 252 * 0.7)"
      ],
      "execution_count": 0,
      "outputs": []
    },
    {
      "cell_type": "code",
      "metadata": {
        "id": "oXqDf8NQRITN",
        "colab_type": "code",
        "colab": {}
      },
      "source": [
        "ticker = 'IBM' #@param [\"GOOG\", \"IBM\", \"MSFT\", \"AAPL\"]\n",
        "predict_days = \"4\" #@param [1, 2, 3, 4, 7]\n",
        "start_date = '2019-01-01' #@param {type:\"date\"}\n",
        "end_date = '2020-01-01' #@param {type:\"date\"}\n",
        "n_days = int(predict_days)\n",
        "data = pdr.get_data_yahoo(ticker, dt.date.today() - dt.timedelta(total_dates), dt.date.today())\n",
        "data = data.dropna()\n",
        "data = data[['High', 'Low', 'Open', 'Close']]"
      ],
      "execution_count": 0,
      "outputs": []
    },
    {
      "cell_type": "code",
      "metadata": {
        "id": "h-5GPM_rSPk_",
        "colab_type": "code",
        "colab": {}
      },
      "source": [
        "def normalize_data(df):\n",
        "  features = ['Open', 'High', 'Low', 'Close']\n",
        "  min_max_scaler = sklearn.preprocessing.MinMaxScaler()\n",
        "  for feature in features:\n",
        "    df[feature] = min_max_scaler.fit_transform(df[feature].values.reshape(-1, 1))\n",
        "  return df, min_max_scaler"
      ],
      "execution_count": 0,
      "outputs": []
    },
    {
      "cell_type": "code",
      "metadata": {
        "id": "FWPXc6h-SoDK",
        "colab_type": "code",
        "colab": {}
      },
      "source": [
        "data, scaler = normalize_data(data)"
      ],
      "execution_count": 0,
      "outputs": []
    },
    {
      "cell_type": "code",
      "metadata": {
        "id": "-ugQLK7uTI3f",
        "colab_type": "code",
        "colab": {
          "base_uri": "https://localhost:8080/",
          "height": 119
        },
        "outputId": "922c5864-a047-4dc9-d1ae-83cfb362c43f"
      },
      "source": [
        "valid_set_size_percentage = 10\n",
        "test_set_size_percentage = 10\n",
        "seq_len = 20\n",
        "\n",
        "def load_data(stock, seq_len):\n",
        "  data_raw = stock.values\n",
        "  data = []\n",
        "  for index in range(len(data_raw) - seq_len):\n",
        "    data.append(data_raw[index: index + seq_len])\n",
        "  data = np.array(data)\n",
        "  valid_set_size = int(valid_set_size_percentage/100*data.shape[0])\n",
        "  test_set_size = int(test_set_size_percentage/100*data.shape[0])\n",
        "  train_set_size = len(data) - valid_set_size - test_set_size\n",
        "  x_train = data[:train_set_size,:-1,:]\n",
        "  y_train = data[:train_set_size, -1,:]\n",
        "  x_valid = data[train_set_size:train_set_size+valid_set_size,:-1,:]\n",
        "  y_valid = data[train_set_size:train_set_size+valid_set_size, -1,:]\n",
        "  x_test  = data[train_set_size+valid_set_size:,:-1,:]\n",
        "  y_test  = data[train_set_size+valid_set_size:, -1,:]\n",
        "  return [x_train, y_train, x_valid, y_valid, x_test, y_test]\n",
        "\n",
        "x_train, y_train, x_valid, y_valid, x_test, y_test = load_data(data, seq_len)\n",
        "print ('x_train.shape:', x_train.shape)\n",
        "print ('y_train.shape:', y_train.shape)\n",
        "print ('x_valid.shape:', x_valid.shape)\n",
        "print ('y_valid.shape:', y_valid.shape)\n",
        "print (' x_test.shape:', x_test.shape)\n",
        "print (' y_test.shape:', y_test.shape)"
      ],
      "execution_count": 7,
      "outputs": [
        {
          "output_type": "stream",
          "text": [
            "x_train.shape: (4007, 19, 4)\n",
            "y_train.shape: (4007, 4)\n",
            "x_valid.shape: (500, 19, 4)\n",
            "y_valid.shape: (500, 4)\n",
            " x_test.shape: (500, 19, 4)\n",
            " y_test.shape: (500, 4)\n"
          ],
          "name": "stdout"
        }
      ]
    },
    {
      "cell_type": "code",
      "metadata": {
        "id": "Ku5dImtAWhoD",
        "colab_type": "code",
        "colab": {}
      },
      "source": [
        "n_steps = seq_len - 1\n",
        "n_inputs = 4\n",
        "n_neurons = 200\n",
        "n_outputs = 4\n",
        "n_layers = 2\n",
        "learining_rate = 0.001\n",
        "batch_size = 50\n",
        "n_epoch = 100\n",
        "train_set_size = x_test.shape[0]\n",
        "test_set_size = x_test.shape[0]\n",
        "tf.reset_default_graph()\n",
        "X = tf.placeholder(tf.float32, [None, n_steps, n_inputs])\n",
        "y = tf.placeholder(tf.float32, [None, n_outputs])"
      ],
      "execution_count": 0,
      "outputs": []
    },
    {
      "cell_type": "code",
      "metadata": {
        "id": "RzB3SoNFXbTM",
        "colab_type": "code",
        "colab": {}
      },
      "source": [
        "index_in_epoch = 0\n",
        "perm_array = np.arange(x_train.shape[0])\n",
        "np.random.shuffle(perm_array)\n",
        "\n",
        "def get_next_batch(batch_size):\n",
        "  global index_in_epoch, x_train, perm_array\n",
        "  start = index_in_epoch\n",
        "  index_in_epoch += batch_size\n",
        "  if index_in_epoch > x_train.shape[0]:\n",
        "    np.random.shuffle(perm_array)\n",
        "    start = 0\n",
        "    index_in_epoch += batch_size\n",
        "  end = index_in_epoch\n",
        "  return x_train[perm_array[start:end]], y_train[perm_array[start:end]]"
      ],
      "execution_count": 0,
      "outputs": []
    },
    {
      "cell_type": "code",
      "metadata": {
        "id": "NVfUFQ5dYrWI",
        "colab_type": "code",
        "colab": {
          "base_uri": "https://localhost:8080/",
          "height": 530
        },
        "outputId": "bcbbd54d-ca6f-4a3a-be71-e55254e0d6a2"
      },
      "source": [
        "#RNN\n",
        "layers = [tf.contrib.rnn.BasicRNNCell(num_units=n_neurons, activation=tf.nn.relu) for layer in range(n_layers)]\n",
        "\n",
        "#LTSM\n",
        "#layers = [tf.contrib.rnn.BasicLSTMCell(num_units=n_neurons, activation=tf.nn.relu) for layer in range(n_layers)]\n",
        "\n",
        "#LTSM with us peepholes\n",
        "#layers = [tf.contrib.rnn.LSTMCell(num_units=n_neurons, activation=tf.nn.leaky_relu, use_peepholes=True) for layer in range(n_layers)]\n",
        "\n",
        "# GRU\n",
        "#layers = [tf.contrib.rnn.GRUCell(num_units=n_neurons, activation=tf.nn.leaky_relu) for layer in range(n_layers)]\n",
        "\n",
        "multi_layer_cell = tf.contrib.rnn.MultiRNNCell(layers)\n",
        "rnn_outputs, states = tf.nn.dynamic_rnn(multi_layer_cell, X, dtype=tf.float32)\n",
        "stacked_rnn_outputs = tf.reshape(rnn_outputs, [-1, n_neurons])\n",
        "stacked_outputs = tf.layers.dense(stacked_rnn_outputs, n_outputs)\n",
        "outputs = tf.reshape(stacked_outputs, [-1, n_steps, n_outputs])\n",
        "outputs = outputs[:,n_steps-1,:]"
      ],
      "execution_count": 10,
      "outputs": [
        {
          "output_type": "stream",
          "text": [
            "WARNING:tensorflow:\n",
            "The TensorFlow contrib module will not be included in TensorFlow 2.0.\n",
            "For more information, please see:\n",
            "  * https://github.com/tensorflow/community/blob/master/rfcs/20180907-contrib-sunset.md\n",
            "  * https://github.com/tensorflow/addons\n",
            "  * https://github.com/tensorflow/io (for I/O related ops)\n",
            "If you depend on functionality not listed there, please file an issue.\n",
            "\n",
            "WARNING:tensorflow:From <ipython-input-10-64890dd50f19>:1: BasicRNNCell.__init__ (from tensorflow.python.ops.rnn_cell_impl) is deprecated and will be removed in a future version.\n",
            "Instructions for updating:\n",
            "This class is equivalent as tf.keras.layers.SimpleRNNCell, and will be replaced by that in Tensorflow 2.0.\n",
            "WARNING:tensorflow:From <ipython-input-10-64890dd50f19>:12: MultiRNNCell.__init__ (from tensorflow.python.ops.rnn_cell_impl) is deprecated and will be removed in a future version.\n",
            "Instructions for updating:\n",
            "This class is equivalent as tf.keras.layers.StackedRNNCells, and will be replaced by that in Tensorflow 2.0.\n",
            "WARNING:tensorflow:From <ipython-input-10-64890dd50f19>:13: dynamic_rnn (from tensorflow.python.ops.rnn) is deprecated and will be removed in a future version.\n",
            "Instructions for updating:\n",
            "Please use `keras.layers.RNN(cell)`, which is equivalent to this API\n",
            "WARNING:tensorflow:From /usr/local/lib/python3.6/dist-packages/tensorflow_core/python/ops/rnn_cell_impl.py:456: Layer.add_variable (from tensorflow.python.keras.engine.base_layer) is deprecated and will be removed in a future version.\n",
            "Instructions for updating:\n",
            "Please use `layer.add_weight` method instead.\n",
            "WARNING:tensorflow:From /usr/local/lib/python3.6/dist-packages/tensorflow_core/python/ops/rnn_cell_impl.py:460: calling Zeros.__init__ (from tensorflow.python.ops.init_ops) with dtype is deprecated and will be removed in a future version.\n",
            "Instructions for updating:\n",
            "Call initializer instance with the dtype argument instead of passing it to the constructor\n",
            "WARNING:tensorflow:From <ipython-input-10-64890dd50f19>:15: dense (from tensorflow.python.layers.core) is deprecated and will be removed in a future version.\n",
            "Instructions for updating:\n",
            "Use keras.layers.Dense instead.\n",
            "WARNING:tensorflow:From /usr/local/lib/python3.6/dist-packages/tensorflow_core/python/layers/core.py:187: Layer.apply (from tensorflow.python.keras.engine.base_layer) is deprecated and will be removed in a future version.\n",
            "Instructions for updating:\n",
            "Please use `layer.__call__` method instead.\n"
          ],
          "name": "stdout"
        }
      ]
    },
    {
      "cell_type": "code",
      "metadata": {
        "id": "XCovXR7jbeWw",
        "colab_type": "code",
        "colab": {}
      },
      "source": [
        "loss = tf.reduce_mean(tf.square(outputs - y))"
      ],
      "execution_count": 0,
      "outputs": []
    },
    {
      "cell_type": "code",
      "metadata": {
        "id": "fizfYxFbdU6m",
        "colab_type": "code",
        "colab": {}
      },
      "source": [
        "optimizer = tf.train.AdamOptimizer(learning_rate=learining_rate)\n",
        "training_op = optimizer.minimize(loss)"
      ],
      "execution_count": 0,
      "outputs": []
    },
    {
      "cell_type": "code",
      "metadata": {
        "id": "3gJUTrLPdiwS",
        "colab_type": "code",
        "colab": {
          "base_uri": "https://localhost:8080/",
          "height": 357
        },
        "outputId": "088391fb-5b5f-438a-928b-728df8e28ddb"
      },
      "source": [
        "with tf.Session() as sess:\n",
        "  sess.run(tf.global_variables_initializer())\n",
        "  for iteration in range(int(n_epoch*train_set_size/batch_size)):\n",
        "    x_batch, y_batch = get_next_batch(batch_size)\n",
        "    sess.run(training_op, feed_dict={X: x_batch, y: y_batch})\n",
        "    if iteration % int(5*train_set_size/batch_size) == 0:\n",
        "      mse_train = loss.eval(feed_dict={X: x_train, y: y_train})\n",
        "      mse_valid = loss.eval(feed_dict={X: x_valid, y: y_valid})\n",
        "      print ('%.2f epochs: MSE train/valid = %.6f/%.6f'%(iteration*batch_size/train_set_size, mse_train, mse_valid))\n",
        "  y_test_pred = sess.run(outputs, feed_dict={X: x_test})"
      ],
      "execution_count": 13,
      "outputs": [
        {
          "output_type": "stream",
          "text": [
            "0.00 epochs: MSE train/valid = 0.155338/0.243713\n",
            "5.00 epochs: MSE train/valid = 0.000247/0.000224\n",
            "10.00 epochs: MSE train/valid = 0.000186/0.000155\n",
            "15.00 epochs: MSE train/valid = 0.000152/0.000133\n",
            "20.00 epochs: MSE train/valid = 0.000122/0.000105\n",
            "25.00 epochs: MSE train/valid = 0.000105/0.000092\n",
            "30.00 epochs: MSE train/valid = 0.000113/0.000110\n",
            "35.00 epochs: MSE train/valid = 0.000099/0.000087\n",
            "40.00 epochs: MSE train/valid = 0.000098/0.000087\n",
            "45.00 epochs: MSE train/valid = 0.000097/0.000086\n",
            "50.00 epochs: MSE train/valid = 0.000099/0.000093\n",
            "55.00 epochs: MSE train/valid = 0.000095/0.000086\n",
            "60.00 epochs: MSE train/valid = 0.000095/0.000088\n",
            "65.00 epochs: MSE train/valid = 0.000094/0.000086\n",
            "70.00 epochs: MSE train/valid = 0.000094/0.000085\n",
            "75.00 epochs: MSE train/valid = 0.000094/0.000085\n",
            "80.00 epochs: MSE train/valid = 0.000091/0.000085\n",
            "85.00 epochs: MSE train/valid = 0.000091/0.000085\n",
            "90.00 epochs: MSE train/valid = 0.000092/0.000091\n",
            "95.00 epochs: MSE train/valid = 0.000091/0.000086\n"
          ],
          "name": "stdout"
        }
      ]
    },
    {
      "cell_type": "code",
      "metadata": {
        "id": "jHrsNxTqe9To",
        "colab_type": "code",
        "colab": {
          "base_uri": "https://localhost:8080/",
          "height": 34
        },
        "outputId": "f593fad7-9428-463c-ec35-da93e1add332"
      },
      "source": [
        "y_test_pred.shape"
      ],
      "execution_count": 14,
      "outputs": [
        {
          "output_type": "execute_result",
          "data": {
            "text/plain": [
              "(500, 4)"
            ]
          },
          "metadata": {
            "tags": []
          },
          "execution_count": 14
        }
      ]
    },
    {
      "cell_type": "code",
      "metadata": {
        "id": "Fo5NhuW5h_D9",
        "colab_type": "code",
        "colab": {
          "base_uri": "https://localhost:8080/",
          "height": 345
        },
        "outputId": "93ca0584-dcf6-4f54-c37e-ff0d6b01a630"
      },
      "source": [
        "comp = pd.DataFrame({'Target':y_test[:,3][-50:], 'Prediction':y_test_pred[:,3][-50:]})\n",
        "plt.figure(figsize=(10, 5))\n",
        "plt.plot(comp['Target'], color = 'blue', label='Target')\n",
        "plt.plot(comp['Prediction'], color = 'green', label='Prediction')\n",
        "plt.legend()\n",
        "plt.show()"
      ],
      "execution_count": 35,
      "outputs": [
        {
          "output_type": "display_data",
          "data": {
            "image/png": "[encoded data removed]",
            "text/plain": [
              "<Figure size 720x360 with 1 Axes>"
            ]
          },
          "metadata": {
            "tags": []
          }
        }
      ]
    },
    {
      "cell_type": "code",
      "metadata": {
        "id": "QT5zg7u_kevK",
        "colab_type": "code",
        "colab": {
          "base_uri": "https://localhost:8080/",
          "height": 686
        },
        "outputId": "5b339ba3-dfd9-4ba4-cd42-1b1c17c2a35a"
      },
      "source": [
        "n_day = 7\n",
        "comp['NextPriceDiff'] = comp['Target'] -  (comp['Target'].shift(-n_day))\n",
        "comp['NextPrdictPriceDiff'] = comp['Prediction'] -  comp['Prediction'].shift(-n_day)\n",
        "comp['Correct'] = comp.apply(lambda r: 1 if (r['NextPriceDiff'] * r['NextPrdictPriceDiff'] > 0) else 0, axis=1)\n",
        "display(comp['Correct'].sum()/len(comp))\n",
        "display(comp.head(20))"
      ],
      "execution_count": 57,
      "outputs": [
        {
          "output_type": "display_data",
          "data": {
            "text/plain": [
              "0.76"
            ]
          },
          "metadata": {
            "tags": []
          }
        },
        {
          "output_type": "display_data",
          "data": {
            "text/html": [
              "<div>\n",
              "<style scoped>\n",
              "    .dataframe tbody tr th:only-of-type {\n",
              "        vertical-align: middle;\n",
              "    }\n",
              "\n",
              "    .dataframe tbody tr th {\n",
              "        vertical-align: top;\n",
              "    }\n",
              "\n",
              "    .dataframe thead th {\n",
              "        text-align: right;\n",
              "    }\n",
              "</style>\n",
              "<table border=\"1\" class=\"dataframe\">\n",
              "  <thead>\n",
              "    <tr style=\"text-align: right;\">\n",
              "      <th></th>\n",
              "      <th>Target</th>\n",
              "      <th>Prediction</th>\n",
              "      <th>NextPriceDiff</th>\n",
              "      <th>NextPrdictPriceDiff</th>\n",
              "      <th>Correct</th>\n",
              "    </tr>\n",
              "  </thead>\n",
              "  <tbody>\n",
              "    <tr>\n",
              "      <th>0</th>\n",
              "      <td>0.479375</td>\n",
              "      <td>0.485191</td>\n",
              "      <td>-0.019909</td>\n",
              "      <td>-0.006011</td>\n",
              "      <td>1</td>\n",
              "    </tr>\n",
              "    <tr>\n",
              "      <th>1</th>\n",
              "      <td>0.478567</td>\n",
              "      <td>0.476262</td>\n",
              "      <td>-0.013812</td>\n",
              "      <td>-0.023031</td>\n",
              "      <td>1</td>\n",
              "    </tr>\n",
              "    <tr>\n",
              "      <th>2</th>\n",
              "      <td>0.478069</td>\n",
              "      <td>0.481589</td>\n",
              "      <td>-0.013812</td>\n",
              "      <td>-0.011576</td>\n",
              "      <td>1</td>\n",
              "    </tr>\n",
              "    <tr>\n",
              "      <th>3</th>\n",
              "      <td>0.486219</td>\n",
              "      <td>0.480135</td>\n",
              "      <td>-0.006222</td>\n",
              "      <td>-0.013068</td>\n",
              "      <td>1</td>\n",
              "    </tr>\n",
              "    <tr>\n",
              "      <th>4</th>\n",
              "      <td>0.490574</td>\n",
              "      <td>0.489212</td>\n",
              "      <td>-0.003049</td>\n",
              "      <td>-0.003637</td>\n",
              "      <td>1</td>\n",
              "    </tr>\n",
              "    <tr>\n",
              "      <th>5</th>\n",
              "      <td>0.490512</td>\n",
              "      <td>0.492859</td>\n",
              "      <td>-0.004044</td>\n",
              "      <td>-0.001737</td>\n",
              "      <td>1</td>\n",
              "    </tr>\n",
              "    <tr>\n",
              "      <th>6</th>\n",
              "      <td>0.489579</td>\n",
              "      <td>0.491237</td>\n",
              "      <td>-0.011386</td>\n",
              "      <td>-0.003134</td>\n",
              "      <td>1</td>\n",
              "    </tr>\n",
              "    <tr>\n",
              "      <th>7</th>\n",
              "      <td>0.499285</td>\n",
              "      <td>0.491202</td>\n",
              "      <td>-0.001431</td>\n",
              "      <td>-0.011435</td>\n",
              "      <td>1</td>\n",
              "    </tr>\n",
              "    <tr>\n",
              "      <th>8</th>\n",
              "      <td>0.492379</td>\n",
              "      <td>0.499293</td>\n",
              "      <td>-0.004791</td>\n",
              "      <td>-0.001865</td>\n",
              "      <td>1</td>\n",
              "    </tr>\n",
              "    <tr>\n",
              "      <th>9</th>\n",
              "      <td>0.491881</td>\n",
              "      <td>0.493165</td>\n",
              "      <td>-0.004853</td>\n",
              "      <td>-0.004527</td>\n",
              "      <td>1</td>\n",
              "    </tr>\n",
              "    <tr>\n",
              "      <th>10</th>\n",
              "      <td>0.492441</td>\n",
              "      <td>0.493204</td>\n",
              "      <td>-0.006533</td>\n",
              "      <td>-0.004358</td>\n",
              "      <td>1</td>\n",
              "    </tr>\n",
              "    <tr>\n",
              "      <th>11</th>\n",
              "      <td>0.493623</td>\n",
              "      <td>0.492850</td>\n",
              "      <td>0.009955</td>\n",
              "      <td>-0.006880</td>\n",
              "      <td>0</td>\n",
              "    </tr>\n",
              "    <tr>\n",
              "      <th>12</th>\n",
              "      <td>0.494556</td>\n",
              "      <td>0.494596</td>\n",
              "      <td>0.003235</td>\n",
              "      <td>0.009693</td>\n",
              "      <td>1</td>\n",
              "    </tr>\n",
              "    <tr>\n",
              "      <th>13</th>\n",
              "      <td>0.500964</td>\n",
              "      <td>0.494370</td>\n",
              "      <td>0.001058</td>\n",
              "      <td>0.003628</td>\n",
              "      <td>1</td>\n",
              "    </tr>\n",
              "    <tr>\n",
              "      <th>14</th>\n",
              "      <td>0.500715</td>\n",
              "      <td>0.502637</td>\n",
              "      <td>0.007528</td>\n",
              "      <td>0.000165</td>\n",
              "      <td>1</td>\n",
              "    </tr>\n",
              "    <tr>\n",
              "      <th>15</th>\n",
              "      <td>0.497169</td>\n",
              "      <td>0.501158</td>\n",
              "      <td>0.005475</td>\n",
              "      <td>0.009546</td>\n",
              "      <td>1</td>\n",
              "    </tr>\n",
              "    <tr>\n",
              "      <th>16</th>\n",
              "      <td>0.496734</td>\n",
              "      <td>0.497692</td>\n",
              "      <td>0.004480</td>\n",
              "      <td>0.007103</td>\n",
              "      <td>1</td>\n",
              "    </tr>\n",
              "    <tr>\n",
              "      <th>17</th>\n",
              "      <td>0.498973</td>\n",
              "      <td>0.497562</td>\n",
              "      <td>-0.000249</td>\n",
              "      <td>0.005360</td>\n",
              "      <td>0</td>\n",
              "    </tr>\n",
              "    <tr>\n",
              "      <th>18</th>\n",
              "      <td>0.483668</td>\n",
              "      <td>0.499730</td>\n",
              "      <td>-0.024451</td>\n",
              "      <td>0.000799</td>\n",
              "      <td>0</td>\n",
              "    </tr>\n",
              "    <tr>\n",
              "      <th>19</th>\n",
              "      <td>0.491321</td>\n",
              "      <td>0.484903</td>\n",
              "      <td>-0.016487</td>\n",
              "      <td>-0.023634</td>\n",
              "      <td>1</td>\n",
              "    </tr>\n",
              "  </tbody>\n",
              "</table>\n",
              "</div>"
            ],
            "text/plain": [
              "      Target  Prediction  NextPriceDiff  NextPrdictPriceDiff  Correct\n",
              "0   0.479375    0.485191      -0.019909            -0.006011        1\n",
              "1   0.478567    0.476262      -0.013812            -0.023031        1\n",
              "2   0.478069    0.481589      -0.013812            -0.011576        1\n",
              "3   0.486219    0.480135      -0.006222            -0.013068        1\n",
              "4   0.490574    0.489212      -0.003049            -0.003637        1\n",
              "5   0.490512    0.492859      -0.004044            -0.001737        1\n",
              "6   0.489579    0.491237      -0.011386            -0.003134        1\n",
              "7   0.499285    0.491202      -0.001431            -0.011435        1\n",
              "8   0.492379    0.499293      -0.004791            -0.001865        1\n",
              "9   0.491881    0.493165      -0.004853            -0.004527        1\n",
              "10  0.492441    0.493204      -0.006533            -0.004358        1\n",
              "11  0.493623    0.492850       0.009955            -0.006880        0\n",
              "12  0.494556    0.494596       0.003235             0.009693        1\n",
              "13  0.500964    0.494370       0.001058             0.003628        1\n",
              "14  0.500715    0.502637       0.007528             0.000165        1\n",
              "15  0.497169    0.501158       0.005475             0.009546        1\n",
              "16  0.496734    0.497692       0.004480             0.007103        1\n",
              "17  0.498973    0.497562      -0.000249             0.005360        0\n",
              "18  0.483668    0.499730      -0.024451             0.000799        0\n",
              "19  0.491321    0.484903      -0.016487            -0.023634        1"
            ]
          },
          "metadata": {
            "tags": []
          }
        }
      ]
    },
    {
      "cell_type": "code",
      "metadata": {
        "id": "FMiWiJLgkgf5",
        "colab_type": "code",
        "colab": {}
      },
      "source": [
        ""
      ],
      "execution_count": 0,
      "outputs": []
    }
  ]
}