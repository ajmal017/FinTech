{
  "nbformat": 4,
  "nbformat_minor": 0,
  "metadata": {
    "colab": {
      "name": "LTSMMutliple.ipynb",
      "provenance": [],
      "machine_shape": "hm",
      "authorship_tag": "ABX9TyOLOBIbcvSO7HaDURtwhLYM",
      "include_colab_link": true
    },
    "kernelspec": {
      "name": "python3",
      "display_name": "Python 3"
    },
    "accelerator": "TPU"
  },
  "cells": [
    {
      "cell_type": "markdown",
      "metadata": {
        "id": "view-in-github",
        "colab_type": "text"
      },
      "source": [
        "<a href=\"https://colab.research.google.com/github/alitootoonchian/FinTech/blob/master/LTSMMutliple.ipynb\" target=\"_parent\"><img src=\"https://colab.research.google.com/assets/colab-badge.svg\" alt=\"Open In Colab\"/></a>"
      ]
    },
    {
      "cell_type": "code",
      "metadata": {
        "id": "NGQvfEZ5Ya25",
        "colab_type": "code",
        "colab": {
          "base_uri": "https://localhost:8080/",
          "height": 34
        },
        "outputId": "fc82745c-1776-4849-af0a-05331a6fa349"
      },
      "source": [
        "from google.colab import drive\n",
        "drive.mount('/content/drive')\n",
        "file_prefix = '/content/drive/My Drive/FintechData/LTSM/'"
      ],
      "execution_count": 14,
      "outputs": [
        {
          "output_type": "stream",
          "text": [
            "Drive already mounted at /content/drive; to attempt to forcibly remount, call drive.mount(\"/content/drive\", force_remount=True).\n"
          ],
          "name": "stdout"
        }
      ]
    },
    {
      "cell_type": "code",
      "metadata": {
        "id": "Ndl5ccdpT-_t",
        "colab_type": "code",
        "colab": {}
      },
      "source": [
        "%tensorflow_version 1.x"
      ],
      "execution_count": 0,
      "outputs": []
    },
    {
      "cell_type": "code",
      "metadata": {
        "id": "ptTcrvHlVXsl",
        "colab_type": "code",
        "colab": {}
      },
      "source": [
        "import datetime as dt\n",
        "import math\n",
        "import numpy as np\n",
        "import pandas as pd\n",
        "import os\n",
        "import json\n",
        "import matplotlib.pyplot as plt\n",
        "\n",
        "from numpy import newaxis\n",
        "from keras.layers import Dense, Activation, Dropout, LSTM\n",
        "from keras.models import Sequential, load_model\n",
        "from keras.callbacks import EarlyStopping, ModelCheckpoint\n",
        "\n",
        "plt.style.use('fivethirtyeight')\n",
        "plt.rcParams['figure.figsize'] = [12, 6]\n"
      ],
      "execution_count": 0,
      "outputs": []
    },
    {
      "cell_type": "markdown",
      "metadata": {
        "id": "kyVn6aKPVCqh",
        "colab_type": "text"
      },
      "source": [
        "## Data Loader"
      ]
    },
    {
      "cell_type": "code",
      "metadata": {
        "id": "3OS8DneOUHfl",
        "colab_type": "code",
        "colab": {}
      },
      "source": [
        "class DataLoader():\n",
        "    \"\"\"A class for loading and transforming data for the lstm model\"\"\"\n",
        "\n",
        "    def __init__(self, filename, split, cols):\n",
        "        dataframe = pd.read_csv(filename)\n",
        "        i_split = int(len(dataframe) * split)\n",
        "        self.data_train = dataframe.get(cols).values[:i_split]\n",
        "        self.data_test  = dataframe.get(cols).values[i_split:]\n",
        "        self.len_train  = len(self.data_train)\n",
        "        self.len_test   = len(self.data_test)\n",
        "        self.len_train_windows = None\n",
        "\n",
        "    def get_test_data(self, seq_len, normalise):\n",
        "        '''\n",
        "        Create x, y test data windows\n",
        "        Warning: batch method, not generative, make sure you have enough memory to\n",
        "        load data, otherwise reduce size of the training split.\n",
        "        '''\n",
        "        data_windows = []\n",
        "        for i in range(self.len_test - seq_len):\n",
        "            data_windows.append(self.data_test[i:i+seq_len])\n",
        "\n",
        "        data_windows = np.array(data_windows).astype(float)\n",
        "        data_windows = self.normalise_windows(data_windows, single_window=False) if normalise else data_windows\n",
        "\n",
        "        x = data_windows[:, :-1]\n",
        "        y = data_windows[:, -1, [0]]\n",
        "        return x,y\n",
        "\n",
        "    def get_train_data(self, seq_len, normalise):\n",
        "        '''\n",
        "        Create x, y train data windows\n",
        "        Warning: batch method, not generative, make sure you have enough memory to\n",
        "        load data, otherwise use generate_training_window() method.\n",
        "        '''\n",
        "        data_x = []\n",
        "        data_y = []\n",
        "        for i in range(self.len_train - seq_len):\n",
        "            x, y = self._next_window(i, seq_len, normalise)\n",
        "            data_x.append(x)\n",
        "            data_y.append(y)\n",
        "        return np.array(data_x), np.array(data_y)\n",
        "\n",
        "    def generate_train_batch(self, seq_len, batch_size, normalise):\n",
        "        '''Yield a generator of training data from filename on given list of cols split for train/test'''\n",
        "        i = 0\n",
        "        while i < (self.len_train - seq_len):\n",
        "            x_batch = []\n",
        "            y_batch = []\n",
        "            for b in range(batch_size):\n",
        "                if i >= (self.len_train - seq_len):\n",
        "                    # stop-condition for a smaller final batch if data doesn't divide evenly\n",
        "                    yield np.array(x_batch), np.array(y_batch)\n",
        "                    i = 0\n",
        "                x, y = self._next_window(i, seq_len, normalise)\n",
        "                x_batch.append(x)\n",
        "                y_batch.append(y)\n",
        "                i += 1\n",
        "            yield np.array(x_batch), np.array(y_batch)\n",
        "\n",
        "    def _next_window(self, i, seq_len, normalise):\n",
        "        '''Generates the next data window from the given index location i'''\n",
        "        window = self.data_train[i:i+seq_len]\n",
        "        window = self.normalise_windows(window, single_window=True)[0] if normalise else window\n",
        "        x = window[:-1]\n",
        "        y = window[-1, [0]]\n",
        "        return x, y\n",
        "\n",
        "    def normalise_windows(self, window_data, single_window=False):\n",
        "        '''Normalise window with a base value of zero'''\n",
        "        normalised_data = []\n",
        "        window_data = [window_data] if single_window else window_data\n",
        "        for window in window_data:\n",
        "            normalised_window = []\n",
        "            for col_i in range(window.shape[1]):\n",
        "                normalised_col = [((float(p) / float(window[0, col_i])) - 1) for p in window[:, col_i]]\n",
        "                normalised_window.append(normalised_col)\n",
        "            normalised_window = np.array(normalised_window).T # reshape and transpose array back into original multidimensional format\n",
        "            normalised_data.append(normalised_window)\n",
        "        return np.array(normalised_data)\n"
      ],
      "execution_count": 0,
      "outputs": []
    },
    {
      "cell_type": "markdown",
      "metadata": {
        "id": "gEQlNxwaVIbV",
        "colab_type": "text"
      },
      "source": [
        "## Timer"
      ]
    },
    {
      "cell_type": "code",
      "metadata": {
        "id": "HkkWILlfVLSy",
        "colab_type": "code",
        "colab": {}
      },
      "source": [
        "class Timer():\n",
        "\n",
        "\tdef __init__(self):\n",
        "\t\tself.start_dt = None\n",
        "\n",
        "\tdef start(self):\n",
        "\t\tself.start_dt = dt.datetime.now()\n",
        "\n",
        "\tdef stop(self):\n",
        "\t\tend_dt = dt.datetime.now()\n",
        "\t\tprint('Time taken: %s' % (end_dt - self.start_dt))"
      ],
      "execution_count": 0,
      "outputs": []
    },
    {
      "cell_type": "markdown",
      "metadata": {
        "id": "hUdiqyThVMC8",
        "colab_type": "text"
      },
      "source": [
        "## Model"
      ]
    },
    {
      "cell_type": "code",
      "metadata": {
        "id": "itrjQOE2VpeX",
        "colab_type": "code",
        "colab": {}
      },
      "source": [
        "class Model():\n",
        "\t\"\"\"A class for an building and inferencing an lstm model\"\"\"\n",
        "\n",
        "\tdef __init__(self):\n",
        "\t\tself.model = Sequential()\n",
        "\n",
        "\tdef load_model(self, filepath):\n",
        "\t\tprint('[Model] Loading model from file %s' % filepath)\n",
        "\t\tself.model = load_model(filepath)\n",
        "\n",
        "\tdef build_model(self, configs):\n",
        "\t\ttimer = Timer()\n",
        "\t\ttimer.start()\n",
        "\n",
        "\t\tfor layer in configs['model']['layers']:\n",
        "\t\t\tneurons = layer['neurons'] if 'neurons' in layer else None\n",
        "\t\t\tdropout_rate = layer['rate'] if 'rate' in layer else None\n",
        "\t\t\tactivation = layer['activation'] if 'activation' in layer else None\n",
        "\t\t\treturn_seq = layer['return_seq'] if 'return_seq' in layer else None\n",
        "\t\t\tinput_timesteps = layer['input_timesteps'] if 'input_timesteps' in layer else None\n",
        "\t\t\tinput_dim = layer['input_dim'] if 'input_dim' in layer else None\n",
        "\n",
        "\t\t\tif layer['type'] == 'dense':\n",
        "\t\t\t\tself.model.add(Dense(neurons, activation=activation))\n",
        "\t\t\tif layer['type'] == 'lstm':\n",
        "\t\t\t\tself.model.add(LSTM(neurons, input_shape=(input_timesteps, input_dim), return_sequences=return_seq))\n",
        "\t\t\tif layer['type'] == 'dropout':\n",
        "\t\t\t\tself.model.add(Dropout(dropout_rate))\n",
        "\n",
        "\t\tself.model.compile(loss=configs['model']['loss'], optimizer=configs['model']['optimizer'])\n",
        "\n",
        "\t\tprint('[Model] Model Compiled')\n",
        "\t\ttimer.stop()\n",
        "\n",
        "\tdef train(self, x, y, epochs, batch_size, save_dir):\n",
        "\t\ttimer = Timer()\n",
        "\t\ttimer.start()\n",
        "\t\tprint('[Model] Training Started')\n",
        "\t\tprint('[Model] %s epochs, %s batch size' % (epochs, batch_size))\n",
        "\t\t\n",
        "\t\tsave_fname = os.path.join(save_dir, '%s-e%s.h5' % (dt.datetime.now().strftime('%d%m%Y-%H%M%S'), str(epochs)))\n",
        "\t\tcallbacks = [\n",
        "\t\t\tEarlyStopping(monitor='val_loss', patience=2),\n",
        "\t\t\tModelCheckpoint(filepath=save_fname, monitor='val_loss', save_best_only=True)\n",
        "\t\t]\n",
        "\t\tself.model.fit(\n",
        "\t\t\tx,\n",
        "\t\t\ty,\n",
        "\t\t\tepochs=epochs,\n",
        "\t\t\tbatch_size=batch_size,\n",
        "\t\t\tcallbacks=callbacks\n",
        "\t\t)\n",
        "\t\tself.model.save(save_fname)\n",
        "\n",
        "\t\tprint('[Model] Training Completed. Model saved as %s' % save_fname)\n",
        "\t\ttimer.stop()\n",
        "\n",
        "\tdef train_generator(self, data_gen, epochs, batch_size, steps_per_epoch, save_dir):\n",
        "\t\ttimer = Timer()\n",
        "\t\ttimer.start()\n",
        "\t\tprint('[Model] Training Started')\n",
        "\t\tprint('[Model] %s epochs, %s batch size, %s batches per epoch' % (epochs, batch_size, steps_per_epoch))\n",
        "\t\t\n",
        "\t\tsave_fname = os.path.join(file_prefix + save_dir, '%s-e%s.h5' % (dt.datetime.now().strftime('%d%m%Y-%H%M%S'), str(epochs)))\n",
        "\t\tcallbacks = [\n",
        "\t\t\t#ModelCheckpoint(filepath=save_fname, monitor='loss', save_best_only=True)\n",
        "\t\t]\n",
        "\t\tself.model.fit_generator(\n",
        "\t\t\tdata_gen,\n",
        "\t\t\tsteps_per_epoch=steps_per_epoch,\n",
        "\t\t\tepochs=epochs,\n",
        "\t\t\tcallbacks=None,\n",
        "\t\t\tworkers=1\n",
        "\t\t)\n",
        "\t\t\n",
        "\t\tprint('[Model] Training Completed. Model saved as %s' % save_fname)\n",
        "\t\ttimer.stop()\n",
        "\n",
        "\tdef predict_point_by_point(self, data):\n",
        "\t\t#Predict each timestep given the last sequence of true data, in effect only predicting 1 step ahead each time\n",
        "\t\tprint('[Model] Predicting Point-by-Point...')\n",
        "\t\tpredicted = self.model.predict(data)\n",
        "\t\tpredicted = np.reshape(predicted, (predicted.size,))\n",
        "\t\treturn predicted\n",
        "\n",
        "\tdef predict_sequences_multiple(self, data, window_size, prediction_len):\n",
        "\t\t#Predict sequence of 50 steps before shifting prediction run forward by 50 steps\n",
        "\t\tprint('[Model] Predicting Sequences Multiple...')\n",
        "\t\tprediction_seqs = []\n",
        "\t\tfor i in range(int(len(data)/prediction_len)):\n",
        "\t\t\tcurr_frame = data[i*prediction_len]\n",
        "\t\t\tpredicted = []\n",
        "\t\t\tfor j in range(prediction_len):\n",
        "\t\t\t\tpredicted.append(self.model.predict(curr_frame[newaxis,:,:])[0,0])\n",
        "\t\t\t\tcurr_frame = curr_frame[1:]\n",
        "\t\t\t\tcurr_frame = np.insert(curr_frame, [window_size-2], predicted[-1], axis=0)\n",
        "\t\t\tprediction_seqs.append(predicted)\n",
        "\t\treturn prediction_seqs\n",
        "\n",
        "\tdef predict_sequence_full(self, data, window_size):\n",
        "\t\t#Shift the window by 1 new prediction each time, re-run predictions on new window\n",
        "\t\tprint('[Model] Predicting Sequences Full...')\n",
        "\t\tcurr_frame = data[0]\n",
        "\t\tpredicted = []\n",
        "\t\tfor i in range(len(data)):\n",
        "\t\t\tpredicted.append(self.model.predict(curr_frame[newaxis,:,:])[0,0])\n",
        "\t\t\tcurr_frame = curr_frame[1:]\n",
        "\t\t\tcurr_frame = np.insert(curr_frame, [window_size-2], predicted[-1], axis=0)\n",
        "\t\treturn predicted\n"
      ],
      "execution_count": 0,
      "outputs": []
    },
    {
      "cell_type": "markdown",
      "metadata": {
        "id": "pRTTEOk3gONS",
        "colab_type": "text"
      },
      "source": [
        "### Plot"
      ]
    },
    {
      "cell_type": "code",
      "metadata": {
        "id": "Zmmelo6lTsAB",
        "colab_type": "code",
        "colab": {}
      },
      "source": [
        "def plot_results(predicted_data, true_data):\n",
        "    fig = plt.figure(facecolor='white')\n",
        "    ax = fig.add_subplot(111)\n",
        "    ax.plot(true_data, label='True Data', linewidth = 2)\n",
        "    plt.plot(predicted_data, label='Prediction', linewidth = 2)\n",
        "    plt.legend()\n",
        "    plt.show()\n",
        "\n",
        "\n",
        "def plot_results_multiple(predicted_data, true_data, prediction_len):\n",
        "    fig = plt.figure(facecolor='white')\n",
        "    ax = fig.add_subplot(111)\n",
        "    ax.plot(true_data, label='True Data', linewidth = 2)\n",
        "\t# Pad the list of predictions to shift it in the graph to it's correct start\n",
        "    for i, data in enumerate(predicted_data):\n",
        "        padding = [None for p in range(i * prediction_len)]\n",
        "        plt.plot(padding + data, label='Prediction', linewidth = 2)\n",
        "        plt.legend()\n",
        "    plt.show()\n"
      ],
      "execution_count": 0,
      "outputs": []
    },
    {
      "cell_type": "markdown",
      "metadata": {
        "id": "TZD8-vKIVOcV",
        "colab_type": "text"
      },
      "source": [
        "## Main"
      ]
    },
    {
      "cell_type": "code",
      "metadata": {
        "id": "Xegffhv4WCnU",
        "colab_type": "code",
        "colab": {
          "base_uri": "https://localhost:8080/",
          "height": 1000
        },
        "outputId": "7f5b7f8e-8dd2-4921-93cc-aacbf06fb093"
      },
      "source": [
        "configs = json.load(open(file_prefix + 'config.json', 'r'))\n",
        "if not os.path.exists(configs['model']['save_dir']): os.makedirs(configs['model']['save_dir'])\n",
        "\n",
        "data = DataLoader(\n",
        "    os.path.join(file_prefix + 'data', configs['data']['filename']),\n",
        "    configs['data']['train_test_split'],\n",
        "    configs['data']['columns']\n",
        ")\n",
        "\n",
        "model = Model()\n",
        "model.build_model(configs)\n",
        "x, y = data.get_train_data(\n",
        "    seq_len=configs['data']['sequence_length'],\n",
        "    normalise=configs['data']['normalise']\n",
        ")\n",
        "\n",
        "# out-of memory generative training\n",
        "steps_per_epoch = math.ceil((data.len_train - configs['data']['sequence_length']) / configs['training']['batch_size'])\n",
        "model.train(\n",
        "    x,\n",
        "    y,\n",
        "    epochs=configs['training']['epochs'],\n",
        "    batch_size=configs['training']['batch_size'],\n",
        "    save_dir=configs['model']['save_dir']\n",
        ")\n",
        "\n",
        "x_test, y_test = data.get_test_data(\n",
        "    seq_len=configs['data']['sequence_length'],\n",
        "    normalise=configs['data']['normalise']\n",
        ")\n",
        "\n",
        "# predictions = model.predict_sequences_multiple(x_test, configs['data']['sequence_length'], configs['data']['sequence_length'])\n",
        "# predictions = model.predict_sequence_full(x_test, configs['data']['sequence_length'])\n",
        "predictions = model.predict_point_by_point(x_test)\n",
        "\n",
        "# plot_results_multiple(predictions, y_test, configs['data']['sequence_length'])\n",
        "# plot_results(predictions, y_test)\n"
      ],
      "execution_count": 58,
      "outputs": [
        {
          "output_type": "stream",
          "text": [
            "[Model] Model Compiled\n",
            "Time taken: 0:00:00.759791\n",
            "[Model] Training Started\n",
            "[Model] 50 epochs, 32 batch size\n",
            "Epoch 1/50\n",
            "3942/3942 [==============================] - 26s 7ms/step - loss: 0.0010\n",
            "Epoch 2/50\n",
            "  32/3942 [..............................] - ETA: 19s - loss: 3.8970e-04"
          ],
          "name": "stdout"
        },
        {
          "output_type": "stream",
          "text": [
            "/usr/local/lib/python3.6/dist-packages/keras/callbacks.py:842: RuntimeWarning: Early stopping conditioned on metric `val_loss` which is not available. Available metrics are: loss\n",
            "  (self.monitor, ','.join(list(logs.keys()))), RuntimeWarning\n",
            "/usr/local/lib/python3.6/dist-packages/keras/callbacks.py:707: RuntimeWarning: Can save best model only with val_loss available, skipping.\n",
            "  'skipping.' % (self.monitor), RuntimeWarning)\n"
          ],
          "name": "stderr"
        },
        {
          "output_type": "stream",
          "text": [
            "3942/3942 [==============================] - 20s 5ms/step - loss: 5.2262e-04\n",
            "Epoch 3/50\n",
            "3942/3942 [==============================] - 21s 5ms/step - loss: 5.1111e-04\n",
            "Epoch 4/50\n",
            "3942/3942 [==============================] - 20s 5ms/step - loss: 4.1365e-04\n",
            "Epoch 5/50\n",
            "3942/3942 [==============================] - 20s 5ms/step - loss: 3.6829e-04\n",
            "Epoch 6/50\n",
            "3942/3942 [==============================] - 20s 5ms/step - loss: 3.1709e-04\n",
            "Epoch 7/50\n",
            "3942/3942 [==============================] - 20s 5ms/step - loss: 3.0137e-04\n",
            "Epoch 8/50\n",
            "3942/3942 [==============================] - 20s 5ms/step - loss: 3.0555e-04\n",
            "Epoch 9/50\n",
            "3942/3942 [==============================] - 19s 5ms/step - loss: 2.7872e-04\n",
            "Epoch 10/50\n",
            "3942/3942 [==============================] - 19s 5ms/step - loss: 2.4933e-04\n",
            "Epoch 11/50\n",
            "3942/3942 [==============================] - 19s 5ms/step - loss: 2.4340e-04\n",
            "Epoch 12/50\n",
            "3942/3942 [==============================] - 19s 5ms/step - loss: 2.3472e-04\n",
            "Epoch 13/50\n",
            "3942/3942 [==============================] - 21s 5ms/step - loss: 2.1053e-04\n",
            "Epoch 14/50\n",
            "3942/3942 [==============================] - 20s 5ms/step - loss: 2.1582e-04\n",
            "Epoch 15/50\n",
            "3942/3942 [==============================] - 20s 5ms/step - loss: 2.2588e-04\n",
            "Epoch 16/50\n",
            "3942/3942 [==============================] - 20s 5ms/step - loss: 2.2487e-04\n",
            "Epoch 17/50\n",
            "3942/3942 [==============================] - 20s 5ms/step - loss: 2.1443e-04\n",
            "Epoch 18/50\n",
            "3942/3942 [==============================] - 21s 5ms/step - loss: 2.1734e-04\n",
            "Epoch 19/50\n",
            "3942/3942 [==============================] - 20s 5ms/step - loss: 2.0118e-04\n",
            "Epoch 20/50\n",
            "3942/3942 [==============================] - 20s 5ms/step - loss: 2.1327e-04\n",
            "Epoch 21/50\n",
            "3942/3942 [==============================] - 20s 5ms/step - loss: 2.0636e-04\n",
            "Epoch 22/50\n",
            "3942/3942 [==============================] - 20s 5ms/step - loss: 2.1575e-04\n",
            "Epoch 23/50\n",
            "3942/3942 [==============================] - 20s 5ms/step - loss: 2.1003e-04\n",
            "Epoch 24/50\n",
            "3942/3942 [==============================] - 19s 5ms/step - loss: 2.0548e-04\n",
            "Epoch 25/50\n",
            "3942/3942 [==============================] - 19s 5ms/step - loss: 2.0527e-04\n",
            "Epoch 26/50\n",
            "3942/3942 [==============================] - 19s 5ms/step - loss: 2.0777e-04\n",
            "Epoch 27/50\n",
            "3942/3942 [==============================] - 19s 5ms/step - loss: 2.0076e-04\n",
            "Epoch 28/50\n",
            "3942/3942 [==============================] - 19s 5ms/step - loss: 2.0776e-04\n",
            "Epoch 29/50\n",
            "3942/3942 [==============================] - 22s 6ms/step - loss: 1.9850e-04\n",
            "Epoch 30/50\n",
            "3942/3942 [==============================] - 19s 5ms/step - loss: 1.9832e-04\n",
            "Epoch 31/50\n",
            "3942/3942 [==============================] - 19s 5ms/step - loss: 1.9554e-04\n",
            "Epoch 32/50\n",
            "3942/3942 [==============================] - 19s 5ms/step - loss: 1.8833e-04\n",
            "Epoch 33/50\n",
            "3942/3942 [==============================] - 19s 5ms/step - loss: 2.1126e-04\n",
            "Epoch 34/50\n",
            "3942/3942 [==============================] - 20s 5ms/step - loss: 1.9564e-04\n",
            "Epoch 35/50\n",
            "3942/3942 [==============================] - 19s 5ms/step - loss: 1.9927e-04\n",
            "Epoch 36/50\n",
            "3942/3942 [==============================] - 19s 5ms/step - loss: 1.9011e-04\n",
            "Epoch 37/50\n",
            "3942/3942 [==============================] - 19s 5ms/step - loss: 1.9650e-04\n",
            "Epoch 38/50\n",
            "3942/3942 [==============================] - 21s 5ms/step - loss: 1.9525e-04\n",
            "Epoch 39/50\n",
            "3942/3942 [==============================] - 19s 5ms/step - loss: 1.9372e-04\n",
            "Epoch 40/50\n",
            "3942/3942 [==============================] - 19s 5ms/step - loss: 1.8655e-04\n",
            "Epoch 41/50\n",
            "3942/3942 [==============================] - 19s 5ms/step - loss: 1.8457e-04\n",
            "Epoch 42/50\n",
            "3942/3942 [==============================] - 19s 5ms/step - loss: 1.9236e-04\n",
            "Epoch 43/50\n",
            "3942/3942 [==============================] - 19s 5ms/step - loss: 2.0389e-04\n",
            "Epoch 44/50\n",
            "3942/3942 [==============================] - 19s 5ms/step - loss: 1.9063e-04\n",
            "Epoch 45/50\n",
            "3942/3942 [==============================] - 21s 5ms/step - loss: 1.7673e-04\n",
            "Epoch 46/50\n",
            "3942/3942 [==============================] - 19s 5ms/step - loss: 1.8672e-04\n",
            "Epoch 47/50\n",
            "3942/3942 [==============================] - 19s 5ms/step - loss: 1.8900e-04\n",
            "Epoch 48/50\n",
            "3942/3942 [==============================] - 19s 5ms/step - loss: 1.9430e-04\n",
            "Epoch 49/50\n",
            "3942/3942 [==============================] - 19s 5ms/step - loss: 1.8162e-04\n",
            "Epoch 50/50\n",
            "3942/3942 [==============================] - 20s 5ms/step - loss: 1.8248e-04\n",
            "[Model] Training Completed. Model saved as saved_models/13032020-203944-e50.h5\n",
            "Time taken: 0:16:35.755960\n",
            "[Model] Predicting Point-by-Point...\n"
          ],
          "name": "stdout"
        }
      ]
    },
    {
      "cell_type": "code",
      "metadata": {
        "id": "y8clGyVHa_pb",
        "colab_type": "code",
        "colab": {
          "base_uri": "https://localhost:8080/",
          "height": 398
        },
        "outputId": "fc785349-62ea-4e5d-873d-c86fa9f6186a"
      },
      "source": [
        "#plot_results_multiple(predictions, y_test, configs['data']['sequence_length'])\n",
        "plot_results(predictions, y_test)"
      ],
      "execution_count": 59,
      "outputs": [
        {
          "output_type": "display_data",
          "data": {
            "image/png": "[encoded data removed]",
            "text/plain": [
              "<Figure size 864x432 with 1 Axes>"
            ]
          },
          "metadata": {
            "tags": []
          }
        }
      ]
    },
    {
      "cell_type": "code",
      "metadata": {
        "id": "hshZjg42cZay",
        "colab_type": "code",
        "colab": {
          "base_uri": "https://localhost:8080/",
          "height": 436
        },
        "outputId": "5651f1f6-3c90-4b45-b997-8fafe96c9bdf"
      },
      "source": [
        "result = pd.DataFrame({'target': y_test[:,0], 'predict':predictions})\n",
        "result['target_chg'] = result['target'].pct_change()\n",
        "result['predict_chg'] = result['predict'].pct_change()\n",
        "result = result[np.abs(result.target_chg) < 2]\n",
        "result = result[np.abs(result.predict_chg) < 2]\n",
        "result['correct'] = (result.target_chg * result.predict_chg > 0).astype(np.int)\n",
        "print('success:', result.correct.sum() / result.shape[0])\n",
        "display(result)"
      ],
      "execution_count": 60,
      "outputs": [
        {
          "output_type": "stream",
          "text": [
            "success: 0.6870860927152318\n"
          ],
          "name": "stdout"
        },
        {
          "output_type": "display_data",
          "data": {
            "text/html": [
              "<div>\n",
              "<style scoped>\n",
              "    .dataframe tbody tr th:only-of-type {\n",
              "        vertical-align: middle;\n",
              "    }\n",
              "\n",
              "    .dataframe tbody tr th {\n",
              "        vertical-align: top;\n",
              "    }\n",
              "\n",
              "    .dataframe thead th {\n",
              "        text-align: right;\n",
              "    }\n",
              "</style>\n",
              "<table border=\"1\" class=\"dataframe\">\n",
              "  <thead>\n",
              "    <tr style=\"text-align: right;\">\n",
              "      <th></th>\n",
              "      <th>target</th>\n",
              "      <th>predict</th>\n",
              "      <th>target_chg</th>\n",
              "      <th>predict_chg</th>\n",
              "      <th>correct</th>\n",
              "    </tr>\n",
              "  </thead>\n",
              "  <tbody>\n",
              "    <tr>\n",
              "      <th>1</th>\n",
              "      <td>-0.077845</td>\n",
              "      <td>-0.083572</td>\n",
              "      <td>0.124155</td>\n",
              "      <td>0.339538</td>\n",
              "      <td>1</td>\n",
              "    </tr>\n",
              "    <tr>\n",
              "      <th>2</th>\n",
              "      <td>-0.053745</td>\n",
              "      <td>-0.078834</td>\n",
              "      <td>-0.309593</td>\n",
              "      <td>-0.056689</td>\n",
              "      <td>1</td>\n",
              "    </tr>\n",
              "    <tr>\n",
              "      <th>3</th>\n",
              "      <td>-0.069208</td>\n",
              "      <td>-0.073372</td>\n",
              "      <td>0.287719</td>\n",
              "      <td>-0.069283</td>\n",
              "      <td>0</td>\n",
              "    </tr>\n",
              "    <tr>\n",
              "      <th>4</th>\n",
              "      <td>-0.085627</td>\n",
              "      <td>-0.070770</td>\n",
              "      <td>0.237242</td>\n",
              "      <td>-0.035463</td>\n",
              "      <td>0</td>\n",
              "    </tr>\n",
              "    <tr>\n",
              "      <th>5</th>\n",
              "      <td>-0.084550</td>\n",
              "      <td>-0.089145</td>\n",
              "      <td>-0.012573</td>\n",
              "      <td>0.259646</td>\n",
              "      <td>0</td>\n",
              "    </tr>\n",
              "    <tr>\n",
              "      <th>...</th>\n",
              "      <td>...</td>\n",
              "      <td>...</td>\n",
              "      <td>...</td>\n",
              "      <td>...</td>\n",
              "      <td>...</td>\n",
              "    </tr>\n",
              "    <tr>\n",
              "      <th>650</th>\n",
              "      <td>0.034188</td>\n",
              "      <td>0.025284</td>\n",
              "      <td>0.277041</td>\n",
              "      <td>-0.031424</td>\n",
              "      <td>0</td>\n",
              "    </tr>\n",
              "    <tr>\n",
              "      <th>651</th>\n",
              "      <td>0.044341</td>\n",
              "      <td>0.033223</td>\n",
              "      <td>0.296980</td>\n",
              "      <td>0.313988</td>\n",
              "      <td>1</td>\n",
              "    </tr>\n",
              "    <tr>\n",
              "      <th>652</th>\n",
              "      <td>0.048842</td>\n",
              "      <td>0.044888</td>\n",
              "      <td>0.101512</td>\n",
              "      <td>0.351112</td>\n",
              "      <td>1</td>\n",
              "    </tr>\n",
              "    <tr>\n",
              "      <th>653</th>\n",
              "      <td>0.053019</td>\n",
              "      <td>0.044420</td>\n",
              "      <td>0.085520</td>\n",
              "      <td>-0.010411</td>\n",
              "      <td>0</td>\n",
              "    </tr>\n",
              "    <tr>\n",
              "      <th>654</th>\n",
              "      <td>0.055048</td>\n",
              "      <td>0.056436</td>\n",
              "      <td>0.038281</td>\n",
              "      <td>0.270490</td>\n",
              "      <td>1</td>\n",
              "    </tr>\n",
              "  </tbody>\n",
              "</table>\n",
              "<p>604 rows × 5 columns</p>\n",
              "</div>"
            ],
            "text/plain": [
              "       target   predict  target_chg  predict_chg  correct\n",
              "1   -0.077845 -0.083572    0.124155     0.339538        1\n",
              "2   -0.053745 -0.078834   -0.309593    -0.056689        1\n",
              "3   -0.069208 -0.073372    0.287719    -0.069283        0\n",
              "4   -0.085627 -0.070770    0.237242    -0.035463        0\n",
              "5   -0.084550 -0.089145   -0.012573     0.259646        0\n",
              "..        ...       ...         ...          ...      ...\n",
              "650  0.034188  0.025284    0.277041    -0.031424        0\n",
              "651  0.044341  0.033223    0.296980     0.313988        1\n",
              "652  0.048842  0.044888    0.101512     0.351112        1\n",
              "653  0.053019  0.044420    0.085520    -0.010411        0\n",
              "654  0.055048  0.056436    0.038281     0.270490        1\n",
              "\n",
              "[604 rows x 5 columns]"
            ]
          },
          "metadata": {
            "tags": []
          }
        }
      ]
    },
    {
      "cell_type": "code",
      "metadata": {
        "id": "ED4p3MS0cpfe",
        "colab_type": "code",
        "colab": {
          "base_uri": "https://localhost:8080/",
          "height": 398
        },
        "outputId": "cf8837da-30d1-40f1-ee1a-b757fce05b33"
      },
      "source": [
        "plt.scatter(result.target_chg, result.predict_chg)\n",
        "plt.show()"
      ],
      "execution_count": 52,
      "outputs": [
        {
          "output_type": "display_data",
          "data": {
            "image/png": "[encoded data removed]",
            "text/plain": [
              "<Figure size 864x432 with 1 Axes>"
            ]
          },
          "metadata": {
            "tags": []
          }
        }
      ]
    },
    {
      "cell_type": "code",
      "metadata": {
        "id": "olBCLiLwdQjs",
        "colab_type": "code",
        "colab": {}
      },
      "source": [
        ""
      ],
      "execution_count": 0,
      "outputs": []
    }
  ]
}