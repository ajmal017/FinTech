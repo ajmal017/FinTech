{
  "nbformat": 4,
  "nbformat_minor": 0,
  "metadata": {
    "colab": {
      "name": "TradingRL.ipynb",
      "provenance": [],
      "machine_shape": "hm",
      "authorship_tag": "ABX9TyM6q7wtxDHRaq3s7WCF5njj",
      "include_colab_link": true
    },
    "kernelspec": {
      "name": "python3",
      "display_name": "Python 3"
    }
  },
  "cells": [
    {
      "cell_type": "markdown",
      "metadata": {
        "id": "view-in-github",
        "colab_type": "text"
      },
      "source": [
        "<a href=\"https://colab.research.google.com/github/alitootoonchian/FinTech/blob/master/TradingRL.ipynb\" target=\"_parent\"><img src=\"https://colab.research.google.com/assets/colab-badge.svg\" alt=\"Open In Colab\"/></a>"
      ]
    },
    {
      "cell_type": "markdown",
      "metadata": {
        "id": "nSkur8rV_5AU",
        "colab_type": "text"
      },
      "source": [
        "# Setup"
      ]
    },
    {
      "cell_type": "markdown",
      "metadata": {
        "id": "Pkln1fbZ_9GJ",
        "colab_type": "text"
      },
      "source": [
        "## GDrive"
      ]
    },
    {
      "cell_type": "code",
      "metadata": {
        "id": "F-r6lo_tQYtO",
        "colab_type": "code",
        "outputId": "ece96155-5dd2-49f6-8a03-56d742ed7765",
        "colab": {
          "base_uri": "https://localhost:8080/",
          "height": 122
        }
      },
      "source": [
        "from google.colab import drive\n",
        "drive.mount('/content/drive')\n",
        "folder = '/content/drive/My Drive/FintechData/RL/'"
      ],
      "execution_count": 1,
      "outputs": [
        {
          "output_type": "stream",
          "text": [
            "Go to this URL in a browser: https://accounts.google.com/o/oauth2/auth?client_id=947318989803-6bn6qk8qdgf4n4g3pfee6491hc0brc4i.apps.googleusercontent.com&redirect_uri=urn%3aietf%3awg%3aoauth%3a2.0%3aoob&response_type=code&scope=email%20https%3a%2f%2fwww.googleapis.com%2fauth%2fdocs.test%20https%3a%2f%2fwww.googleapis.com%2fauth%2fdrive%20https%3a%2f%2fwww.googleapis.com%2fauth%2fdrive.photos.readonly%20https%3a%2f%2fwww.googleapis.com%2fauth%2fpeopleapi.readonly\n",
            "\n",
            "Enter your authorization code:\n",
            "··········\n",
            "Mounted at /content/drive\n"
          ],
          "name": "stdout"
        }
      ]
    },
    {
      "cell_type": "markdown",
      "metadata": {
        "id": "DSRWIYmAABc6",
        "colab_type": "text"
      },
      "source": [
        "## TensorFlow Version"
      ]
    },
    {
      "cell_type": "code",
      "metadata": {
        "id": "MBmOwZ-LFwp-",
        "colab_type": "code",
        "colab": {}
      },
      "source": [
        "%tensorflow_version 1.x"
      ],
      "execution_count": 0,
      "outputs": []
    },
    {
      "cell_type": "markdown",
      "metadata": {
        "id": "UJ5I6lKDAHAv",
        "colab_type": "text"
      },
      "source": [
        "## Import Libraray"
      ]
    },
    {
      "cell_type": "code",
      "metadata": {
        "id": "IspzTcx73LNH",
        "colab_type": "code",
        "outputId": "37f5f716-f31f-4b75-977b-5a1e005a3784",
        "colab": {
          "base_uri": "https://localhost:8080/",
          "height": 34
        }
      },
      "source": [
        "import random\n",
        "import os\n",
        "import math\n",
        "import logging\n",
        "import pandas as pd\n",
        "import numpy as np\n",
        "import tensorflow as tf\n",
        "import keras.backend as K\n",
        "import matplotlib.pyplot as plt\n",
        "import datetime as dt\n",
        "import pandas_datareader.data  as pdr\n",
        "\n",
        "from collections import deque\n",
        "from keras.models import Sequential\n",
        "from keras.models import load_model, clone_model\n",
        "from keras.layers import Dense\n",
        "from keras.optimizers import Adam\n",
        "from tqdm import tqdm\n",
        "from pandas.plotting import register_matplotlib_converters\n",
        "\n",
        "register_matplotlib_converters()\n",
        "plt.style.use('fivethirtyeight')\n",
        "plt.rcParams['figure.figsize'] = [16, 8]\n"
      ],
      "execution_count": 3,
      "outputs": [
        {
          "output_type": "stream",
          "text": [
            "Using TensorFlow backend.\n"
          ],
          "name": "stderr"
        }
      ]
    },
    {
      "cell_type": "markdown",
      "metadata": {
        "id": "XjeHpB40ARsI",
        "colab_type": "text"
      },
      "source": [
        "# Renforcmenet Learning"
      ]
    },
    {
      "cell_type": "markdown",
      "metadata": {
        "id": "Cglu6RPRSk9T",
        "colab_type": "text"
      },
      "source": [
        "## Utils"
      ]
    },
    {
      "cell_type": "code",
      "metadata": {
        "id": "l7ZyNYKmSqso",
        "colab_type": "code",
        "colab": {}
      },
      "source": [
        "# Formats Position\n",
        "format_position = lambda price: ('-$' if price < 0 else '+$') + '{0:.2f}'.format(abs(price))\n",
        "\n",
        "\n",
        "# Formats Currency\n",
        "format_currency = lambda price: '${0:.2f}'.format(abs(price))\n",
        "\n",
        "\n",
        "def show_train_result(result, val_position, initial_offset):\n",
        "    ''' \n",
        "    Displays training results\n",
        "    '''\n",
        "    if val_position == initial_offset or val_position == 0.0:\n",
        "        print('Episode {}/{} - Train Position: {}  Val Position: USELESS  Train Loss: {:.4f}'\n",
        "                     .format(result[0], result[1], format_position(result[2]), result[3]))\n",
        "    else:\n",
        "        print('Episode {}/{} - Train Position: {}  Val Position: {}  Train Loss: {:.4f})'\n",
        "                     .format(result[0], result[1], format_position(result[2]), format_position(val_position), result[3],))\n",
        "\n",
        "\n",
        "def show_eval_result(model_name, profit, initial_offset):\n",
        "    '''\n",
        "    Displays eval results\n",
        "    '''\n",
        "    if profit == initial_offset or profit == 0.0:\n",
        "        print('{}: USELESS\\n'.format(model_name))\n",
        "    else:\n",
        "        print('{}: {}\\n'.format(model_name, format_position(profit)))\n",
        "\n",
        "def switch_k_backend_device():\n",
        "    '''\n",
        "    Switches `keras` backend from GPU to CPU if required.\n",
        "    Faster computation on CPU (if using tensorflow-gpu).\n",
        "    '''\n",
        "    if K.backend() == \"tensorflow\":\n",
        "        logging.debug(\"switching to TensorFlow for CPU\")\n",
        "        os.environ[\"CUDA_VISIBLE_DEVICES\"] = \"-1\"\n"
      ],
      "execution_count": 0,
      "outputs": []
    },
    {
      "cell_type": "markdown",
      "metadata": {
        "id": "ut_CK7NoR0nn",
        "colab_type": "text"
      },
      "source": [
        "## Agent"
      ]
    },
    {
      "cell_type": "code",
      "metadata": {
        "id": "oEME0shrPzFu",
        "colab_type": "code",
        "colab": {}
      },
      "source": [
        "def huber_loss(y_true, y_pred, clip_delta=1.0):\n",
        "    '''\n",
        "    Huber loss - Custom Loss Function for Q Learning\n",
        "    Links: \thttps://en.wikipedia.org/wiki/Huber_loss\n",
        "            https://jaromiru.com/2017/05/27/on-using-huber-loss-in-deep-q-learning/\n",
        "    '''\n",
        "    error = y_true - y_pred\n",
        "    cond = K.abs(error) <= clip_delta\n",
        "    squared_loss = 0.5 * K.square(error)\n",
        "    quadratic_loss = 0.5 * K.square(clip_delta) + clip_delta * (K.abs(error) - clip_delta)\n",
        "    return K.mean(tf.where(cond, squared_loss, quadratic_loss))\n",
        "\n",
        "class Agent:\n",
        "    ''' \n",
        "    Stock Trading Bot \n",
        "    '''\n",
        "\n",
        "    def __init__(self, \n",
        "                 state_size, \n",
        "                 strategy=\"t-dqn\", \n",
        "                 reset_every=1000, \n",
        "                 pretrained=False, \n",
        "                 model_name=None):\n",
        "        self.strategy = strategy\n",
        "\n",
        "        # agent config\n",
        "        self.state_size = state_size    \t# normalized previous days\n",
        "        self.action_size = 3           \t\t# [sit, buy, sell]\n",
        "        self.model_name = model_name\n",
        "        self.inventory = []\n",
        "        self.memory = deque(maxlen=10000)\n",
        "        self.first_iter = True\n",
        "\n",
        "        # model config\n",
        "        self.model_name = model_name\n",
        "        self.gamma = 0.95 # affinity for long term reward\n",
        "        self.epsilon = 1.0\n",
        "        self.epsilon_min = 0.01\n",
        "        self.epsilon_decay = 0.995\n",
        "        self.learning_rate = 0.001\n",
        "        self.loss = huber_loss\n",
        "        self.custom_objects = {\"huber_loss\": huber_loss}  # important for loading the model from memory\n",
        "        self.optimizer = Adam(lr=self.learning_rate)\n",
        "\n",
        "        if pretrained and self.model_name is not None:\n",
        "            self.model = self.load()\n",
        "        else:\n",
        "            self.model = self._model()\n",
        "\n",
        "        # strategy config\n",
        "        if self.strategy in [\"t-dqn\", \"double-dqn\"]:\n",
        "            self.n_iter = 1\n",
        "            self.reset_every = reset_every\n",
        "\n",
        "            # target network\n",
        "            self.target_model = clone_model(self.model)\n",
        "            self.target_model.set_weights(self.model.get_weights())\n",
        "\n",
        "    def _model(self):\n",
        "        '''\n",
        "        Creates the model\n",
        "        '''\n",
        "        model = Sequential()\n",
        "        model.add(Dense(units=128, activation=\"relu\", input_dim=self.state_size))\n",
        "        model.add(Dense(units=256, activation=\"relu\"))\n",
        "        model.add(Dense(units=256, activation=\"relu\"))\n",
        "        model.add(Dense(units=128, activation=\"relu\"))\n",
        "        model.add(Dense(units=self.action_size))\n",
        "\n",
        "        model.compile(loss=self.loss, optimizer=self.optimizer)\n",
        "        return model\n",
        "\n",
        "    def remember(self, state, action, reward, next_state, done):\n",
        "        '''\n",
        "        Adds relevant data to memory\n",
        "        '''\n",
        "        self.memory.append((state, action, reward, next_state, done))\n",
        "\n",
        "    def act(self, state, is_eval=False):\n",
        "        '''\n",
        "        Take action from given possible set of actions\n",
        "        '''\n",
        "        # take random action in order to diversify experience at the beginning\n",
        "        if not is_eval and random.random() <= self.epsilon:\n",
        "            return random.randrange(self.action_size)\n",
        "\n",
        "        if self.first_iter:\n",
        "            self.first_iter = False\n",
        "            return 1 # make a definite buy on the first iter\n",
        "\n",
        "        action_probs = self.model.predict(state)\n",
        "        return np.argmax(action_probs[0])\n",
        "\n",
        "    def train_experience_replay(self, batch_size):\n",
        "        '''\n",
        "        Train on previous experiences in memory\n",
        "        '''\n",
        "        mini_batch = random.sample(self.memory, batch_size)\n",
        "        X_train, y_train = [], []\n",
        "        \n",
        "        # DQN\n",
        "        if self.strategy == \"dqn\":\n",
        "            for state, action, reward, next_state, done in mini_batch:\n",
        "                if done:\n",
        "                    target = reward\n",
        "                else:\n",
        "                    # approximate deep q-learning equation\n",
        "                    target = reward + self.gamma * np.amax(self.model.predict(next_state)[0])\n",
        "\n",
        "                # estimate q-values based on current state\n",
        "                q_values = self.model.predict(state)\n",
        "                # update the target for current action based on discounted reward\n",
        "                q_values[0][action] = target\n",
        "\n",
        "                X_train.append(state[0])\n",
        "                y_train.append(q_values[0])\n",
        "\n",
        "        # DQN with fixed targets\n",
        "        elif self.strategy == \"t-dqn\":\n",
        "            if self.n_iter % self.reset_every == 0:\n",
        "                # reset target model weights\n",
        "                self.target_model.set_weights(self.model.get_weights())\n",
        "            \"\"\"\n",
        "            for state, action, reward, next_state, done in mini_batch:\n",
        "                if done:\n",
        "                    target = reward\n",
        "                else:\n",
        "                    # approximate deep q-learning equation with fixed targets\n",
        "                    target = reward + self.gamma * np.amax(self.target_model.predict(next_state)[0])\n",
        "\n",
        "                # estimate q-values based on current state\n",
        "                q_values = self.model.predict(state)\n",
        "                # update the target for current action based on discounted reward\n",
        "                q_values[0][action] = target\n",
        "\n",
        "                X_train.append(state[0])\n",
        "                y_train.append(q_values[0])\n",
        "            \"\"\"\n",
        "            states = np.array([tup[0][0] for tup in mini_batch])\n",
        "            actions = np.array([tup[1] for tup in mini_batch])\n",
        "            rewards = np.array([tup[2] for tup in mini_batch])\n",
        "            next_states = np.array([tup[3][0] for tup in mini_batch])\n",
        "            done = np.array([tup[4] for tup in mini_batch])\n",
        "\n",
        "            # Q(s', a)\n",
        "            target = rewards + self.gamma * np.amax(self.target_model.predict(next_states), axis=1)\n",
        "            # end state target is reward itself (no lookahead)\n",
        "            target[done] = rewards[done]\n",
        "\n",
        "            # Q(s, a)\n",
        "            q_values = self.model.predict(states)\n",
        "            # make the agent to approximately map the current state to future discounted reward\n",
        "            q_values[range(batch_size), actions] = target\n",
        "\n",
        "            X_train = states\n",
        "            y_train = q_values\n",
        "\n",
        "        # Double DQN\n",
        "        elif self.strategy == \"double-dqn\":\n",
        "            if self.n_iter % self.reset_every == 0:\n",
        "                # reset target model weights\n",
        "                self.target_model.set_weights(self.model.get_weights())\n",
        "\n",
        "            for state, action, reward, next_state, done in mini_batch:\n",
        "                if done:\n",
        "                    target = reward\n",
        "                else:\n",
        "                    # approximate double deep q-learning equation\n",
        "                    target = reward + self.gamma * self.target_model.predict(next_state)[0][np.argmax(self.model.predict(next_state)[0])]\n",
        "\n",
        "                # estimate q-values based on current state\n",
        "                q_values = self.model.predict(state)\n",
        "                # update the target for current action based on discounted reward\n",
        "                q_values[0][action] = target\n",
        "\n",
        "                X_train.append(state[0])\n",
        "                y_train.append(q_values[0])\n",
        "                \n",
        "        else:\n",
        "            raise NotImplementedError()\n",
        "\n",
        "        # update q-function parameters based on huber loss gradient\n",
        "        loss = self.model.fit(\n",
        "            np.array(X_train),\n",
        "            np.array(y_train),\n",
        "            epochs=1, verbose=0\n",
        "        ).history[\"loss\"][0]\n",
        "\n",
        "        # as the training goes on we want the agent to\n",
        "        # make less random and more optimal decisions\n",
        "        if self.epsilon > self.epsilon_min:\n",
        "            self.epsilon *= self.epsilon_decay\n",
        "\n",
        "        return loss\n",
        "\n",
        "    def save(self, episode):\n",
        "        self.model.save(folder + \"models/{}_{}\".format(self.model_name, episode))\n",
        "\n",
        "    def load(self):\n",
        "        return load_model(folder + \"models/\" + self.model_name, custom_objects=self.custom_objects)"
      ],
      "execution_count": 0,
      "outputs": []
    },
    {
      "cell_type": "markdown",
      "metadata": {
        "id": "W7Qeczs1R6ox",
        "colab_type": "text"
      },
      "source": [
        "## Model"
      ]
    },
    {
      "cell_type": "code",
      "metadata": {
        "id": "WZ2UGnx-SLHK",
        "colab_type": "code",
        "colab": {}
      },
      "source": [
        "class Model():\n",
        "\n",
        "    def __init__(self, ep_count=100, batch_size=32, window_size=10):\n",
        "        self.ep_count = ep_count\n",
        "        self.batch_size = batch_size\n",
        "        self.window_size = window_size\n",
        "\n",
        "    def set_agent(self, agent):\n",
        "        self.agent = agent\n",
        "\n",
        "    def sigmoid(self, x):\n",
        "        \"\"\"\n",
        "        Performs sigmoid operation\n",
        "        \"\"\"\n",
        "        try:\n",
        "            if x < 0:\n",
        "                return 1 - 1 / (1 + math.exp(x))\n",
        "            return 1 / (1 + math.exp(-x))\n",
        "        except Exception as err:\n",
        "            print(\"Error in sigmoid: \" + err)\n",
        "\n",
        "\n",
        "    def get_state(self, data, t, n_days):\n",
        "        \"\"\"\n",
        "        Returns an n-day state representation ending at time t\n",
        "        \"\"\"\n",
        "        d = t - n_days + 1\n",
        "        block = data[d: t + 1] if d >= 0 else -d * [data[0]] + data[0: t + 1]  # pad with t0\n",
        "        res = []\n",
        "        for i in range(n_days - 1):\n",
        "            res.append(self.sigmoid(block[i + 1] - block[i]))\n",
        "        return np.array([res])\n",
        "\n",
        "\n",
        "    def train(self, episode, data):\n",
        "        total_profit = 0\n",
        "        data_length = len(data) - 1\n",
        "\n",
        "        self.agent.inventory = []\n",
        "        avg_loss = []\n",
        "\n",
        "        state = self.get_state(data, 0, self.window_size + 1)\n",
        "\n",
        "        for t in tqdm(range(data_length), total=data_length, leave=True, desc='Episode {}/{}'.format(episode, self.ep_count)):        \n",
        "            reward = 0\n",
        "            next_state = self.get_state(data, t + 1, window_size + 1)\n",
        "\n",
        "            # select an action\n",
        "            action = self.agent.act(state)\n",
        "\n",
        "            # BUY\n",
        "            if action == 1:\n",
        "                self.agent.inventory.append(data[t])\n",
        "\n",
        "            # SELL\n",
        "            elif action == 2 and len(self.agent.inventory) > 0:\n",
        "                self.agent.inventory.sort()\n",
        "                bought_price = self.agent.inventory.pop(0)\n",
        "                delta = data[t] - bought_price\n",
        "                reward = delta #max(delta, 0)\n",
        "                total_profit += delta\n",
        "\n",
        "            # HOLD\n",
        "            else:\n",
        "                pass\n",
        "\n",
        "            done = (t == data_length - 1)\n",
        "            self.agent.remember(state, action, reward, next_state, done)\n",
        "\n",
        "            if len(self.agent.memory) > batch_size:\n",
        "                loss = self.agent.train_experience_replay(self.batch_size)\n",
        "                avg_loss.append(loss)\n",
        "\n",
        "            state = next_state\n",
        "\n",
        "        if episode % 10 == 0:\n",
        "            self.agent.save(episode)\n",
        "\n",
        "        return (episode, self.ep_count, total_profit, np.mean(np.array(avg_loss)))\n",
        "\n",
        "\n",
        "    def evaluate(self, data):\n",
        "        total_profit = 0\n",
        "        data_length = len(data) - 1\n",
        "\n",
        "        history = []\n",
        "        self.agent.inventory = []\n",
        "        \n",
        "        state = self.get_state(data, 0, self.window_size + 1)\n",
        "\n",
        "        for t in range(data_length):        \n",
        "            reward = 0\n",
        "            next_state = self.get_state(data, t + 1, window_size + 1)\n",
        "            # select an action\n",
        "            action = self.agent.act(state, is_eval=True)\n",
        "\n",
        "            # BUY\n",
        "            if action == 1:\n",
        "                self.agent.inventory.append(data[t])\n",
        "                history.append((data[t], \"BUY\", total_profit))\n",
        "            # SELL\n",
        "            elif action == 2 and len(self.agent.inventory) > 0:\n",
        "                self.agent.inventory.sort()\n",
        "                bought_price = self.agent.inventory.pop(0)\n",
        "                delta = data[t] - bought_price\n",
        "                reward = delta #max(delta, 0)\n",
        "                total_profit += delta\n",
        "                history.append((data[t], \"SELL\", total_profit))\n",
        "            # HOLD\n",
        "            else:\n",
        "                history.append((data[t], \"HOLD\", total_profit))\n",
        "\n",
        "            done = (t == data_length - 1)\n",
        "            self.agent.memory.append((state, action, reward, next_state, done))\n",
        "\n",
        "            state = next_state\n",
        "            if done:\n",
        "                return total_profit, history\n"
      ],
      "execution_count": 0,
      "outputs": []
    },
    {
      "cell_type": "markdown",
      "metadata": {
        "id": "ef42-H0XTdUy",
        "colab_type": "text"
      },
      "source": [
        "# Main"
      ]
    },
    {
      "cell_type": "markdown",
      "metadata": {
        "id": "Ojhrs9n7Cb9Y",
        "colab_type": "text"
      },
      "source": [
        "## Parameters"
      ]
    },
    {
      "cell_type": "code",
      "metadata": {
        "id": "AuoleSWjTaYh",
        "colab_type": "code",
        "colab": {}
      },
      "source": [
        "ticker = \"GOOGL\"\n",
        "end_date = dt.date(2019, 12, 29)\n",
        "start_date = end_date - dt.timedelta(365 * 20)\n",
        "data = pdr.get_data_yahoo(ticker, start_date, end_date) \n",
        "valid_size_percentage = 10\n",
        "test_size_percentage = 10\n",
        "valid_size = int(valid_size_percentage/100 * data.shape[0])\n",
        "test_size = int(test_size_percentage/100 * data.shape[0])\n",
        "train_size = data.shape[0] - valid_size - test_size\n",
        "window_size = 10\n",
        "batch_size = 32\n",
        "ep_count = 20\n",
        "strategy = \"t-dqn\"\n",
        "model_name = \"model_debug\"\n",
        "model_name_eval = model_name + \"_\" + str(ep_count)"
      ],
      "execution_count": 0,
      "outputs": []
    },
    {
      "cell_type": "markdown",
      "metadata": {
        "id": "LwoRvTNjUpMY",
        "colab_type": "text"
      },
      "source": [
        "## Train\n"
      ]
    },
    {
      "cell_type": "markdown",
      "metadata": {
        "id": "z1T7NT-7U4ZV",
        "colab_type": "text"
      },
      "source": [
        "Trains the stock trading bot using Deep Q-Learning.\n",
        "Please see https://arxiv.org/abs/1312.5602 for more details.\n",
        "Args: [python train.py --help]"
      ]
    },
    {
      "cell_type": "code",
      "metadata": {
        "id": "KfvHRJeOlaMo",
        "colab_type": "code",
        "colab": {}
      },
      "source": [
        "agent = Agent(window_size, strategy=strategy, pretrained=False, model_name=model_name)\n",
        "model = Model(ep_count=ep_count, batch_size=batch_size, window_size=window_size)"
      ],
      "execution_count": 0,
      "outputs": []
    },
    {
      "cell_type": "code",
      "metadata": {
        "id": "O5Yi7UrHU6a5",
        "colab_type": "code",
        "outputId": "4935ff98-a4a3-4680-8cab-8587593bdaba",
        "colab": {
          "base_uri": "https://localhost:8080/",
          "height": 357
        }
      },
      "source": [
        "model.set_agent(agent)\n",
        "\n",
        "train_data = list(data[:train_size]['Adj Close'])\n",
        "val_data = list(data[train_size:train_size+valid_size]['Adj Close'])\n",
        "\n",
        "initial_offset = val_data[1] - val_data[0]\n",
        "\n",
        "for episode in range(1, ep_count + 1):\n",
        "    train_result = model.train(episode, train_data)\n",
        "    #val_result, _ = model.evaluate(val_data)\n",
        "    #show_train_result(train_result, val_result, initial_offset)\n"
      ],
      "execution_count": 18,
      "outputs": [
        {
          "output_type": "stream",
          "text": [
            "Episode 1/20: 100%|██████████| 3094/3094 [00:18<00:00, 171.38it/s]\n",
            "Episode 2/20: 100%|██████████| 3094/3094 [00:17<00:00, 181.02it/s]\n",
            "Episode 3/20: 100%|██████████| 3094/3094 [00:17<00:00, 179.53it/s]\n",
            "Episode 4/20: 100%|██████████| 3094/3094 [00:17<00:00, 180.67it/s]\n",
            "Episode 5/20: 100%|██████████| 3094/3094 [00:17<00:00, 180.59it/s]\n",
            "Episode 6/20: 100%|██████████| 3094/3094 [00:17<00:00, 181.11it/s]\n",
            "Episode 7/20: 100%|██████████| 3094/3094 [00:17<00:00, 181.14it/s]\n",
            "Episode 8/20: 100%|██████████| 3094/3094 [00:16<00:00, 182.25it/s]\n",
            "Episode 9/20: 100%|██████████| 3094/3094 [00:17<00:00, 176.39it/s]\n",
            "Episode 10/20: 100%|██████████| 3094/3094 [00:16<00:00, 182.44it/s]\n",
            "Episode 11/20: 100%|██████████| 3094/3094 [00:17<00:00, 181.65it/s]\n",
            "Episode 12/20: 100%|██████████| 3094/3094 [00:16<00:00, 182.37it/s]\n",
            "Episode 13/20: 100%|██████████| 3094/3094 [00:16<00:00, 184.42it/s]\n",
            "Episode 14/20: 100%|██████████| 3094/3094 [00:16<00:00, 182.20it/s]\n",
            "Episode 15/20: 100%|██████████| 3094/3094 [00:17<00:00, 181.26it/s]\n",
            "Episode 16/20: 100%|██████████| 3094/3094 [00:17<00:00, 181.33it/s]\n",
            "Episode 17/20: 100%|██████████| 3094/3094 [00:17<00:00, 181.50it/s]\n",
            "Episode 18/20: 100%|██████████| 3094/3094 [00:17<00:00, 181.79it/s]\n",
            "Episode 19/20: 100%|██████████| 3094/3094 [00:16<00:00, 182.02it/s]\n",
            "Episode 20/20: 100%|██████████| 3094/3094 [00:17<00:00, 181.23it/s]\n"
          ],
          "name": "stderr"
        }
      ]
    },
    {
      "cell_type": "markdown",
      "metadata": {
        "id": "djRsbX3Jx9GC",
        "colab_type": "text"
      },
      "source": [
        "## Evaluation"
      ]
    },
    {
      "cell_type": "code",
      "metadata": {
        "id": "VF9B_Uj4ycRp",
        "colab_type": "code",
        "outputId": "9945d5b1-927c-469f-d612-db371a50675b",
        "colab": {
          "base_uri": "https://localhost:8080/",
          "height": 51
        }
      },
      "source": [
        "agent = Agent(window_size, pretrained=True, model_name=model_name_eval)\n",
        "model.set_agent(agent)\n",
        "switch_k_backend_device()\n",
        "test_data = list(data[-test_size:]['Adj Close'])\n",
        "initial_offset = test_data[1] - test_data[0]\n",
        "test_result, history = model.evaluate(test_data)\n",
        "show_eval_result(model_name, test_result, initial_offset)\n",
        "history.append((None, None, None))\n",
        "#display(history)\n",
        "#display(test_result)"
      ],
      "execution_count": 24,
      "outputs": [
        {
          "output_type": "stream",
          "text": [
            "model_debug: +$5409.22\n",
            "\n"
          ],
          "name": "stdout"
        }
      ]
    },
    {
      "cell_type": "markdown",
      "metadata": {
        "id": "XCwiQpmSEx97",
        "colab_type": "text"
      },
      "source": [
        "### Result"
      ]
    },
    {
      "cell_type": "code",
      "metadata": {
        "id": "IRgGwiA8yY9V",
        "colab_type": "code",
        "outputId": "e12a5738-ecd6-4106-d463-17c3afb8a7ac",
        "colab": {
          "base_uri": "https://localhost:8080/",
          "height": 34
        }
      },
      "source": [
        "print (\"Profit:\", test_result)\n",
        "# read csv into dataframe\n",
        "result = pd.DataFrame({'price': data[-test_size:]['Adj Close'].values})\n",
        "result['signal'] = [h[1] for h in history]\n",
        "result['PnL'] = [h[2] for h in history]\n",
        "result['buy'] = result['signal'] == 'BUY'\n",
        "result['sell'] = result['signal'] == 'SELL'\n",
        "result.dropna(inplace=True)"
      ],
      "execution_count": 25,
      "outputs": [
        {
          "output_type": "stream",
          "text": [
            "Profit: 5409.2200927734375\n"
          ],
          "name": "stdout"
        }
      ]
    },
    {
      "cell_type": "markdown",
      "metadata": {
        "id": "4H8P-4JZE3zP",
        "colab_type": "text"
      },
      "source": [
        "### Visualization"
      ]
    },
    {
      "cell_type": "code",
      "metadata": {
        "id": "M7l5U6Z8-JL_",
        "colab_type": "code",
        "outputId": "e85e0e57-12c3-4094-c162-a107c32bfb81",
        "colab": {
          "base_uri": "https://localhost:8080/",
          "height": 451
        }
      },
      "source": [
        "plt_data = result\n",
        "index = plt_data['price'].index\n",
        "fig, ax1 = plt.subplots()\n",
        "ax1.plot(index, plt_data['price'], 'b-', linewidth=2) \n",
        "ax1.set_ylabel('price', color='b')\n",
        "\n",
        "# Plot the buy signals\n",
        "ax1.plot(plt_data.loc[plt_data.buy].index, plt_data['price'][plt_data.buy], 'o', markersize=5, color='g', label='buy')\n",
        "\n",
        "# Plot the sell signals\n",
        "ax1.plot(plt_data.loc[plt_data.sell].index, plt_data['price'][plt_data.sell], 'o', markersize=5, color='r', label='sell')\n",
        "plt.legend()\n",
        "\n",
        "fig.autofmt_xdate()\n",
        "\n",
        "ax2 = ax1.twinx()\n",
        "ax2.plot(index, plt_data['PnL'], 'c-', linewidth=2) \n",
        "ax2.set_ylabel('Profit', color='c')\n",
        "\n",
        "plt.show()"
      ],
      "execution_count": 26,
      "outputs": [
        {
          "output_type": "display_data",
          "data": {
            "image/png": "[encoded data removed]",
            "text/plain": [
              "<Figure size 1152x576 with 2 Axes>"
            ]
          },
          "metadata": {
            "tags": []
          }
        }
      ]
    },
    {
      "cell_type": "code",
      "metadata": {
        "id": "FnP7RX9pUTtT",
        "colab_type": "code",
        "colab": {}
      },
      "source": [
        ""
      ],
      "execution_count": 0,
      "outputs": []
    }
  ]
}