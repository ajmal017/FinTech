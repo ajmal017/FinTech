{
  "nbformat": 4,
  "nbformat_minor": 0,
  "metadata": {
    "colab": {
      "name": "StockPredTF",
      "provenance": [],
      "machine_shape": "hm",
      "authorship_tag": "ABX9TyNeLgSm2BKxJbmcm981pCNf",
      "include_colab_link": true
    },
    "kernelspec": {
      "name": "python3",
      "display_name": "Python 3"
    },
    "accelerator": "GPU"
  },
  "cells": [
    {
      "cell_type": "markdown",
      "metadata": {
        "id": "view-in-github",
        "colab_type": "text"
      },
      "source": [
        "<a href=\"https://colab.research.google.com/github/alitootoonchian/FinTech/blob/master/StockPredTF.ipynb\" target=\"_parent\"><img src=\"https://colab.research.google.com/assets/colab-badge.svg\" alt=\"Open In Colab\"/></a>"
      ]
    },
    {
      "cell_type": "code",
      "metadata": {
        "id": "g-UxUEL08km_",
        "colab_type": "code",
        "colab": {}
      },
      "source": [
        "%tensorflow_version 1.x"
      ],
      "execution_count": 0,
      "outputs": []
    },
    {
      "cell_type": "code",
      "metadata": {
        "id": "eTiZNl9C8sLp",
        "colab_type": "code",
        "colab": {
          "base_uri": "https://localhost:8080/",
          "height": 221
        },
        "outputId": "56d1a06a-6b37-47a9-a295-66a95f14f27c"
      },
      "source": [
        "!pip install yfinance"
      ],
      "execution_count": 5,
      "outputs": [
        {
          "output_type": "stream",
          "text": [
            "Requirement already satisfied: yfinance in /usr/local/lib/python3.6/dist-packages (0.1.54)\n",
            "Requirement already satisfied: numpy>=1.15 in /usr/local/lib/python3.6/dist-packages (from yfinance) (1.17.5)\n",
            "Requirement already satisfied: pandas>=0.24 in /usr/local/lib/python3.6/dist-packages (from yfinance) (0.25.3)\n",
            "Requirement already satisfied: requests>=2.20 in /usr/local/lib/python3.6/dist-packages (from yfinance) (2.21.0)\n",
            "Requirement already satisfied: multitasking>=0.0.7 in /usr/local/lib/python3.6/dist-packages (from yfinance) (0.0.9)\n",
            "Requirement already satisfied: pytz>=2017.2 in /usr/local/lib/python3.6/dist-packages (from pandas>=0.24->yfinance) (2018.9)\n",
            "Requirement already satisfied: python-dateutil>=2.6.1 in /usr/local/lib/python3.6/dist-packages (from pandas>=0.24->yfinance) (2.6.1)\n",
            "Requirement already satisfied: urllib3<1.25,>=1.21.1 in /usr/local/lib/python3.6/dist-packages (from requests>=2.20->yfinance) (1.24.3)\n",
            "Requirement already satisfied: idna<2.9,>=2.5 in /usr/local/lib/python3.6/dist-packages (from requests>=2.20->yfinance) (2.8)\n",
            "Requirement already satisfied: chardet<3.1.0,>=3.0.2 in /usr/local/lib/python3.6/dist-packages (from requests>=2.20->yfinance) (3.0.4)\n",
            "Requirement already satisfied: certifi>=2017.4.17 in /usr/local/lib/python3.6/dist-packages (from requests>=2.20->yfinance) (2019.11.28)\n",
            "Requirement already satisfied: six>=1.5 in /usr/local/lib/python3.6/dist-packages (from python-dateutil>=2.6.1->pandas>=0.24->yfinance) (1.12.0)\n"
          ],
          "name": "stdout"
        }
      ]
    },
    {
      "cell_type": "code",
      "metadata": {
        "id": "XckxovTh8wUh",
        "colab_type": "code",
        "colab": {}
      },
      "source": [
        "import numpy as np\n",
        "import pandas as pd\n",
        "import math\n",
        "import sklearn\n",
        "import sklearn.preprocessing\n",
        "import datetime as dt\n",
        "import os\n",
        "import matplotlib.pyplot as plt\n",
        "import tensorflow as tf\n",
        "import pandas_datareader.data  as pdr\n",
        "from tqdm.auto import tqdm\n",
        "import yfinance as yf\n",
        "from pandas.plotting import register_matplotlib_converters\n",
        "register_matplotlib_converters()\n",
        "\n",
        "plt.style.use('fivethirtyeight')\n",
        "plt.rcParams['figure.figsize'] = [12, 6]\n"
      ],
      "execution_count": 0,
      "outputs": []
    },
    {
      "cell_type": "code",
      "metadata": {
        "id": "EuY1Cuuh80tV",
        "colab_type": "code",
        "colab": {}
      },
      "source": [
        "training_days = 30\n",
        "total_years = 15\n",
        "total_dates = total_years * 365"
      ],
      "execution_count": 0,
      "outputs": []
    },
    {
      "cell_type": "code",
      "metadata": {
        "id": "3_rBfsCT86av",
        "colab_type": "code",
        "colab": {
          "base_uri": "https://localhost:8080/",
          "height": 34
        },
        "outputId": "a9da975e-ebae-471e-e043-83a4ce1764c2"
      },
      "source": [
        "ticker = 'AAPL'\n",
        "valid_set_size_percentage = 10\n",
        "test_set_size_percentage = 10\n",
        "seq_len = training_days\n",
        "stocks_intradays = pdr.get_data_yahoo(ticker, dt.date.today() - dt.timedelta(total_dates), dt.date.today() - dt.timedelta(60))\n",
        "stocks_innerdays = yf.download(tickers=ticker, period=\"60d\", interval=\"2m\")\n",
        "stocks = pd.concat([stocks_intradays, stocks_innerdays], sort=True)\n"
      ],
      "execution_count": 8,
      "outputs": [
        {
          "output_type": "stream",
          "text": [
            "\r[*********************100%***********************]  1 of 1 completed\n"
          ],
          "name": "stdout"
        }
      ]
    },
    {
      "cell_type": "code",
      "metadata": {
        "id": "zyTMRm8bnXgg",
        "colab_type": "code",
        "colab": {
          "base_uri": "https://localhost:8080/",
          "height": 419
        },
        "outputId": "1f40aa12-fedb-4107-dddf-28d4d83b3b13"
      },
      "source": [
        "display(stocks)"
      ],
      "execution_count": 9,
      "outputs": [
        {
          "output_type": "display_data",
          "data": {
            "text/html": [
              "<div>\n",
              "<style scoped>\n",
              "    .dataframe tbody tr th:only-of-type {\n",
              "        vertical-align: middle;\n",
              "    }\n",
              "\n",
              "    .dataframe tbody tr th {\n",
              "        vertical-align: top;\n",
              "    }\n",
              "\n",
              "    .dataframe thead th {\n",
              "        text-align: right;\n",
              "    }\n",
              "</style>\n",
              "<table border=\"1\" class=\"dataframe\">\n",
              "  <thead>\n",
              "    <tr style=\"text-align: right;\">\n",
              "      <th></th>\n",
              "      <th>Adj Close</th>\n",
              "      <th>Close</th>\n",
              "      <th>High</th>\n",
              "      <th>Low</th>\n",
              "      <th>Open</th>\n",
              "      <th>Volume</th>\n",
              "    </tr>\n",
              "  </thead>\n",
              "  <tbody>\n",
              "    <tr>\n",
              "      <th>2005-03-10 00:00:00</th>\n",
              "      <td>4.939153</td>\n",
              "      <td>5.690000</td>\n",
              "      <td>5.751429</td>\n",
              "      <td>5.585714</td>\n",
              "      <td>5.647143</td>\n",
              "      <td>194277300.0</td>\n",
              "    </tr>\n",
              "    <tr>\n",
              "      <th>2005-03-11 00:00:00</th>\n",
              "      <td>4.993715</td>\n",
              "      <td>5.752857</td>\n",
              "      <td>5.798572</td>\n",
              "      <td>5.685714</td>\n",
              "      <td>5.744286</td>\n",
              "      <td>158207700.0</td>\n",
              "    </tr>\n",
              "    <tr>\n",
              "      <th>2005-03-14 00:00:00</th>\n",
              "      <td>4.999917</td>\n",
              "      <td>5.760000</td>\n",
              "      <td>5.827143</td>\n",
              "      <td>5.645714</td>\n",
              "      <td>5.788571</td>\n",
              "      <td>151346300.0</td>\n",
              "    </tr>\n",
              "    <tr>\n",
              "      <th>2005-03-15 00:00:00</th>\n",
              "      <td>5.079279</td>\n",
              "      <td>5.851429</td>\n",
              "      <td>5.877143</td>\n",
              "      <td>5.750000</td>\n",
              "      <td>5.805714</td>\n",
              "      <td>127152200.0</td>\n",
              "    </tr>\n",
              "    <tr>\n",
              "      <th>2005-03-16 00:00:00</th>\n",
              "      <td>5.106561</td>\n",
              "      <td>5.882857</td>\n",
              "      <td>6.044286</td>\n",
              "      <td>5.825714</td>\n",
              "      <td>5.887143</td>\n",
              "      <td>174453300.0</td>\n",
              "    </tr>\n",
              "    <tr>\n",
              "      <th>...</th>\n",
              "      <td>...</td>\n",
              "      <td>...</td>\n",
              "      <td>...</td>\n",
              "      <td>...</td>\n",
              "      <td>...</td>\n",
              "      <td>...</td>\n",
              "    </tr>\n",
              "    <tr>\n",
              "      <th>2020-03-06 10:08:00-05:00</th>\n",
              "      <td>285.313995</td>\n",
              "      <td>285.313995</td>\n",
              "      <td>286.070007</td>\n",
              "      <td>284.929993</td>\n",
              "      <td>285.274994</td>\n",
              "      <td>266330.0</td>\n",
              "    </tr>\n",
              "    <tr>\n",
              "      <th>2020-03-06 10:10:00-05:00</th>\n",
              "      <td>286.070007</td>\n",
              "      <td>286.070007</td>\n",
              "      <td>286.309204</td>\n",
              "      <td>284.790009</td>\n",
              "      <td>285.309998</td>\n",
              "      <td>300138.0</td>\n",
              "    </tr>\n",
              "    <tr>\n",
              "      <th>2020-03-06 10:12:00-05:00</th>\n",
              "      <td>286.769989</td>\n",
              "      <td>286.769989</td>\n",
              "      <td>287.079987</td>\n",
              "      <td>285.619995</td>\n",
              "      <td>286.045013</td>\n",
              "      <td>355536.0</td>\n",
              "    </tr>\n",
              "    <tr>\n",
              "      <th>2020-03-06 10:14:00-05:00</th>\n",
              "      <td>287.144989</td>\n",
              "      <td>287.144989</td>\n",
              "      <td>287.279999</td>\n",
              "      <td>286.609314</td>\n",
              "      <td>286.800995</td>\n",
              "      <td>236154.0</td>\n",
              "    </tr>\n",
              "    <tr>\n",
              "      <th>2020-03-06 10:16:44-05:00</th>\n",
              "      <td>287.714996</td>\n",
              "      <td>287.714996</td>\n",
              "      <td>287.714996</td>\n",
              "      <td>287.714996</td>\n",
              "      <td>287.714996</td>\n",
              "      <td>0.0</td>\n",
              "    </tr>\n",
              "  </tbody>\n",
              "</table>\n",
              "<p>10381 rows × 6 columns</p>\n",
              "</div>"
            ],
            "text/plain": [
              "                            Adj Close       Close  ...        Open       Volume\n",
              "2005-03-10 00:00:00          4.939153    5.690000  ...    5.647143  194277300.0\n",
              "2005-03-11 00:00:00          4.993715    5.752857  ...    5.744286  158207700.0\n",
              "2005-03-14 00:00:00          4.999917    5.760000  ...    5.788571  151346300.0\n",
              "2005-03-15 00:00:00          5.079279    5.851429  ...    5.805714  127152200.0\n",
              "2005-03-16 00:00:00          5.106561    5.882857  ...    5.887143  174453300.0\n",
              "...                               ...         ...  ...         ...          ...\n",
              "2020-03-06 10:08:00-05:00  285.313995  285.313995  ...  285.274994     266330.0\n",
              "2020-03-06 10:10:00-05:00  286.070007  286.070007  ...  285.309998     300138.0\n",
              "2020-03-06 10:12:00-05:00  286.769989  286.769989  ...  286.045013     355536.0\n",
              "2020-03-06 10:14:00-05:00  287.144989  287.144989  ...  286.800995     236154.0\n",
              "2020-03-06 10:16:44-05:00  287.714996  287.714996  ...  287.714996          0.0\n",
              "\n",
              "[10381 rows x 6 columns]"
            ]
          },
          "metadata": {
            "tags": []
          }
        }
      ]
    },
    {
      "cell_type": "code",
      "metadata": {
        "id": "kdLoPFhm8_MR",
        "colab_type": "code",
        "colab": {}
      },
      "source": [
        "stocks = stocks.rename(str.lower, axis='columns')\n",
        "stocks.dropna(inplace=True)"
      ],
      "execution_count": 0,
      "outputs": []
    },
    {
      "cell_type": "code",
      "metadata": {
        "id": "yKb6ORrs9GdA",
        "colab_type": "code",
        "colab": {
          "base_uri": "https://localhost:8080/",
          "height": 204
        },
        "outputId": "19136f5d-12fd-427d-ca11-0ce25e6d37ff"
      },
      "source": [
        "def normalize_data(stocks_df):\n",
        "    df = stocks_df.copy()\n",
        "    features = ['volume', 'open', 'high', 'low', 'close', 'adj close']\n",
        "    min_max_scaler = None\n",
        "    for feature in features:\n",
        "        min_max_scaler = sklearn.preprocessing.MinMaxScaler()\n",
        "        df[feature] = min_max_scaler.fit_transform(df[feature].values.reshape(-1, 1))\n",
        "    return df, min_max_scaler\n",
        "\n",
        "stocks_scaled, close_scaler = normalize_data(stocks)\n",
        "display(stocks_scaled.head(5))"
      ],
      "execution_count": 11,
      "outputs": [
        {
          "output_type": "display_data",
          "data": {
            "text/html": [
              "<div>\n",
              "<style scoped>\n",
              "    .dataframe tbody tr th:only-of-type {\n",
              "        vertical-align: middle;\n",
              "    }\n",
              "\n",
              "    .dataframe tbody tr th {\n",
              "        vertical-align: top;\n",
              "    }\n",
              "\n",
              "    .dataframe thead th {\n",
              "        text-align: right;\n",
              "    }\n",
              "</style>\n",
              "<table border=\"1\" class=\"dataframe\">\n",
              "  <thead>\n",
              "    <tr style=\"text-align: right;\">\n",
              "      <th></th>\n",
              "      <th>adj close</th>\n",
              "      <th>close</th>\n",
              "      <th>high</th>\n",
              "      <th>low</th>\n",
              "      <th>open</th>\n",
              "      <th>volume</th>\n",
              "    </tr>\n",
              "  </thead>\n",
              "  <tbody>\n",
              "    <tr>\n",
              "      <th>2005-03-10 00:00:00</th>\n",
              "      <td>0.002185</td>\n",
              "      <td>0.002522</td>\n",
              "      <td>0.002226</td>\n",
              "      <td>0.002650</td>\n",
              "      <td>0.002358</td>\n",
              "      <td>0.230393</td>\n",
              "    </tr>\n",
              "    <tr>\n",
              "      <th>2005-03-11 00:00:00</th>\n",
              "      <td>0.002354</td>\n",
              "      <td>0.002717</td>\n",
              "      <td>0.002372</td>\n",
              "      <td>0.002960</td>\n",
              "      <td>0.002659</td>\n",
              "      <td>0.187618</td>\n",
              "    </tr>\n",
              "    <tr>\n",
              "      <th>2005-03-14 00:00:00</th>\n",
              "      <td>0.002373</td>\n",
              "      <td>0.002739</td>\n",
              "      <td>0.002460</td>\n",
              "      <td>0.002836</td>\n",
              "      <td>0.002796</td>\n",
              "      <td>0.179481</td>\n",
              "    </tr>\n",
              "    <tr>\n",
              "      <th>2005-03-15 00:00:00</th>\n",
              "      <td>0.002618</td>\n",
              "      <td>0.003022</td>\n",
              "      <td>0.002615</td>\n",
              "      <td>0.003159</td>\n",
              "      <td>0.002850</td>\n",
              "      <td>0.150790</td>\n",
              "    </tr>\n",
              "    <tr>\n",
              "      <th>2005-03-16 00:00:00</th>\n",
              "      <td>0.002703</td>\n",
              "      <td>0.003120</td>\n",
              "      <td>0.003133</td>\n",
              "      <td>0.003394</td>\n",
              "      <td>0.003102</td>\n",
              "      <td>0.206884</td>\n",
              "    </tr>\n",
              "  </tbody>\n",
              "</table>\n",
              "</div>"
            ],
            "text/plain": [
              "                     adj close     close  ...      open    volume\n",
              "2005-03-10 00:00:00   0.002185  0.002522  ...  0.002358  0.230393\n",
              "2005-03-11 00:00:00   0.002354  0.002717  ...  0.002659  0.187618\n",
              "2005-03-14 00:00:00   0.002373  0.002739  ...  0.002796  0.179481\n",
              "2005-03-15 00:00:00   0.002618  0.003022  ...  0.002850  0.150790\n",
              "2005-03-16 00:00:00   0.002703  0.003120  ...  0.003102  0.206884\n",
              "\n",
              "[5 rows x 6 columns]"
            ]
          },
          "metadata": {
            "tags": []
          }
        }
      ]
    },
    {
      "cell_type": "code",
      "metadata": {
        "id": "WGAW6RuI9eK3",
        "colab_type": "code",
        "colab": {
          "base_uri": "https://localhost:8080/",
          "height": 119
        },
        "outputId": "4b14838c-17f9-44d6-fac2-1a9b70e7268e"
      },
      "source": [
        "def load_data(scaled_df, seq):\n",
        "    data_raw = scaled_df.values\n",
        "    data = []\n",
        "    for index in range(len(data_raw) - seq):\n",
        "        data.append(data_raw[index: index + seq])\n",
        "    data = np.array(data)\n",
        "    valid_size = int(valid_set_size_percentage/100*data.shape[0])\n",
        "    test_size = int(test_set_size_percentage/100*data.shape[0])\n",
        "    train_size = len(data) - valid_size - test_size\n",
        "    x_train = data[:train_size, :-1, :-1]\n",
        "    y_train = data[:train_size,  -1, :-1]\n",
        "    \n",
        "    x_valid = data[train_size: train_size + valid_size, :-1, :-1]\n",
        "    y_valid = data[train_size: train_size + valid_size,  -1, :-1]\n",
        "    \n",
        "    x_test  = data[train_size + valid_size:, :-1, :-1]\n",
        "    y_test  = data[train_size + valid_size:,  -1,  :-1]\n",
        "    return [x_train, y_train, x_valid, y_valid, x_test, y_test]\n",
        "\n",
        "x_train, y_train, x_valid, y_valid, x_test, y_test = load_data(stocks_scaled, seq_len)\n",
        "print ('x_train.shape:', x_train.shape)\n",
        "print ('y_train.shape:', y_train.shape)\n",
        "print ('x_valid.shape:', x_valid.shape)\n",
        "print ('y_valid.shape:', y_valid.shape)\n",
        "print (' x_test.shape:', x_test.shape)\n",
        "print (' y_test.shape:', y_test.shape)"
      ],
      "execution_count": 12,
      "outputs": [
        {
          "output_type": "stream",
          "text": [
            "x_train.shape: (8281, 29, 5)\n",
            "y_train.shape: (8281, 5)\n",
            "x_valid.shape: (1035, 29, 5)\n",
            "y_valid.shape: (1035, 5)\n",
            " x_test.shape: (1035, 29, 5)\n",
            " y_test.shape: (1035, 5)\n"
          ],
          "name": "stdout"
        }
      ]
    },
    {
      "cell_type": "code",
      "metadata": {
        "id": "U9v2KSTs9pMH",
        "colab_type": "code",
        "colab": {}
      },
      "source": [
        "index_in_epoch = 0\n",
        "perm_array = np.arange(x_train.shape[0])\n",
        "np.random.shuffle(perm_array)\n",
        "\n",
        "def get_next_batch(batch_size):\n",
        "    global index_in_epoch, x_train, perm_array\n",
        "    start = index_in_epoch\n",
        "    index_in_epoch += batch_size\n",
        "    if index_in_epoch > x_train.shape[0]:\n",
        "        np.random.shuffle(perm_array)\n",
        "    start = 0\n",
        "    index_in_epoch += batch_size\n",
        "    end = index_in_epoch\n",
        "    return x_train[perm_array[start:end]], y_train[perm_array[start:end]]"
      ],
      "execution_count": 0,
      "outputs": []
    },
    {
      "cell_type": "code",
      "metadata": {
        "id": "jL8E080p-UZG",
        "colab_type": "code",
        "colab": {}
      },
      "source": [
        "def run_model(x_test_data):\n",
        "    n_steps = seq_len - 1\n",
        "    n_inputs = 5\n",
        "    n_neurons = 200\n",
        "    n_outputs = 5\n",
        "    n_layers = 2\n",
        "    learining_rate = 0.001\n",
        "    batch_size = 50\n",
        "    n_epoch = 20\n",
        "    train_set_size = x_train.shape[0]\n",
        "    test_set_size = x_test_data.shape[0]\n",
        "    tf.reset_default_graph()\n",
        "    X = tf.placeholder(tf.float32, [None, n_steps, n_inputs])\n",
        "    y = tf.placeholder(tf.float32, [None, n_outputs])\n",
        "\n",
        "    #RNN\n",
        "    layers = [tf.contrib.rnn.BasicRNNCell(num_units=n_neurons, activation=tf.nn.relu) for layer in range(n_layers)]\n",
        "\n",
        "    multi_layer_cell = tf.contrib.rnn.MultiRNNCell(layers)\n",
        "    rnn_outputs, states = tf.nn.dynamic_rnn(multi_layer_cell, X, dtype=tf.float32)\n",
        "    stacked_rnn_outputs = tf.reshape(rnn_outputs, [-1, n_neurons])\n",
        "    stacked_outputs = tf.layers.dense(stacked_rnn_outputs, n_outputs)\n",
        "    outputs = tf.reshape(stacked_outputs, [-1, n_steps, n_outputs])\n",
        "    outputs = outputs[:,n_steps-1,:]\n",
        "\n",
        "    loss = tf.reduce_mean(tf.square(outputs - y))\n",
        "    optimizer = tf.train.AdamOptimizer(learning_rate=learining_rate)\n",
        "    training_op = optimizer.minimize(loss)\n",
        "\n",
        "    with tf.Session() as sess:\n",
        "        sess.run(tf.global_variables_initializer())\n",
        "        for iteration in range(int(n_epoch*train_set_size/batch_size)):\n",
        "            x_batch, y_batch = get_next_batch(batch_size)\n",
        "            sess.run(training_op, feed_dict={X: x_batch, y: y_batch})\n",
        "            if iteration % int(5*train_set_size/batch_size) == 0:\n",
        "                mse_train = loss.eval(feed_dict={X: x_train, y: y_train})\n",
        "                mse_valid = loss.eval(feed_dict={X: x_valid, y: y_valid})\n",
        "                print ('%.2f epochs: MSE train/valid = %.6f/%.6f'%(iteration*batch_size/train_set_size, mse_train, mse_valid))\n",
        "        #y_test_pred = sess.run(outputs, feed_dict={X: x_test})\n",
        "        pred = sess.run(outputs, feed_dict={X: x_test_data})\n",
        "    return pred"
      ],
      "execution_count": 0,
      "outputs": []
    },
    {
      "cell_type": "code",
      "metadata": {
        "id": "HZ6YMmVWBPGY",
        "colab_type": "code",
        "colab": {
          "base_uri": "https://localhost:8080/",
          "height": 666
        },
        "outputId": "9f1d2330-dcda-4c61-ba9c-2d32dc51684b"
      },
      "source": [
        "y_pred = run_model(x_test)\n",
        "x_test_new = np.concatenate((x_test[:, 1:, :], y_pred.reshape(y_pred.shape[0], 1, y_pred.shape[1])), axis=1)\n",
        "y_pred_new = run_model(x_test_new)"
      ],
      "execution_count": 15,
      "outputs": [
        {
          "output_type": "stream",
          "text": [
            "WARNING:tensorflow:\n",
            "The TensorFlow contrib module will not be included in TensorFlow 2.0.\n",
            "For more information, please see:\n",
            "  * https://github.com/tensorflow/community/blob/master/rfcs/20180907-contrib-sunset.md\n",
            "  * https://github.com/tensorflow/addons\n",
            "  * https://github.com/tensorflow/io (for I/O related ops)\n",
            "If you depend on functionality not listed there, please file an issue.\n",
            "\n",
            "WARNING:tensorflow:From <ipython-input-14-ca697a9bcab1>:17: BasicRNNCell.__init__ (from tensorflow.python.ops.rnn_cell_impl) is deprecated and will be removed in a future version.\n",
            "Instructions for updating:\n",
            "This class is equivalent as tf.keras.layers.SimpleRNNCell, and will be replaced by that in Tensorflow 2.0.\n",
            "WARNING:tensorflow:From <ipython-input-14-ca697a9bcab1>:19: MultiRNNCell.__init__ (from tensorflow.python.ops.rnn_cell_impl) is deprecated and will be removed in a future version.\n",
            "Instructions for updating:\n",
            "This class is equivalent as tf.keras.layers.StackedRNNCells, and will be replaced by that in Tensorflow 2.0.\n",
            "WARNING:tensorflow:From <ipython-input-14-ca697a9bcab1>:20: dynamic_rnn (from tensorflow.python.ops.rnn) is deprecated and will be removed in a future version.\n",
            "Instructions for updating:\n",
            "Please use `keras.layers.RNN(cell)`, which is equivalent to this API\n",
            "WARNING:tensorflow:From /usr/local/lib/python3.6/dist-packages/tensorflow_core/python/ops/rnn_cell_impl.py:456: Layer.add_variable (from tensorflow.python.keras.engine.base_layer) is deprecated and will be removed in a future version.\n",
            "Instructions for updating:\n",
            "Please use `layer.add_weight` method instead.\n",
            "WARNING:tensorflow:From /usr/local/lib/python3.6/dist-packages/tensorflow_core/python/ops/rnn_cell_impl.py:460: calling Zeros.__init__ (from tensorflow.python.ops.init_ops) with dtype is deprecated and will be removed in a future version.\n",
            "Instructions for updating:\n",
            "Call initializer instance with the dtype argument instead of passing it to the constructor\n",
            "WARNING:tensorflow:From <ipython-input-14-ca697a9bcab1>:22: dense (from tensorflow.python.layers.core) is deprecated and will be removed in a future version.\n",
            "Instructions for updating:\n",
            "Use keras.layers.Dense instead.\n",
            "WARNING:tensorflow:From /usr/local/lib/python3.6/dist-packages/tensorflow_core/python/layers/core.py:187: Layer.apply (from tensorflow.python.keras.engine.base_layer) is deprecated and will be removed in a future version.\n",
            "Instructions for updating:\n",
            "Please use `layer.__call__` method instead.\n",
            "0.00 epochs: MSE train/valid = 0.420740/0.620633\n",
            "5.00 epochs: MSE train/valid = 0.000017/0.000010\n",
            "10.00 epochs: MSE train/valid = 0.000021/0.000030\n",
            "15.00 epochs: MSE train/valid = 0.000012/0.000009\n",
            "0.00 epochs: MSE train/valid = 0.460906/0.679683\n",
            "5.00 epochs: MSE train/valid = 0.000030/0.000024\n",
            "10.00 epochs: MSE train/valid = 0.000014/0.000012\n",
            "15.00 epochs: MSE train/valid = 0.000014/0.000008\n"
          ],
          "name": "stdout"
        }
      ]
    },
    {
      "cell_type": "code",
      "metadata": {
        "id": "Uf6urvuHXGsP",
        "colab_type": "code",
        "colab": {
          "base_uri": "https://localhost:8080/",
          "height": 1000
        },
        "outputId": "3ba1816a-8520-4134-ab04-83c75f733515"
      },
      "source": [
        "print(y_test.shape)\n",
        "result = pd.DataFrame()\n",
        "result['target'] = close_scaler.inverse_transform(y_test[:,3].reshape(-1, 1))[:,0]\n",
        "result['predict'] = close_scaler.inverse_transform(y_pred[:,3].reshape(-1, 1))[:,0]\n",
        "result['predict_new'] = close_scaler.inverse_transform(y_pred_new[:,3].reshape(-1, 1))[:,0]\n",
        "result['target_ret'] = (result.target - result.target.shift(1)) / result.target\n",
        "result['predict_ret'] = (result.predict - result.predict.shift(1)) / result.predict\n",
        "result['predict_new_ret'] = (result.predict_new - result.predict.shift(1)) / result.predict_new\n",
        "result['predict_ret_gold'] = result.predict_new_ret.shift(-1)\n",
        "result.dropna(inplace=True)\n",
        "result['success'] = ((result.target_ret * result.predict_ret_gold) > 0).astype(np.int)\n",
        "result['success_ret'] = np.abs(result.target_ret * result.success)\n",
        "display(result)\n",
        "plt.plot(result.target, linewidth=1.5, label='target', c='g')\n",
        "plt.plot(result.predict, linewidth=1.5, label='predict', c='b')\n",
        "plt.legend()\n",
        "plt.show()\n",
        "\n",
        "print(\"Success Rate:{}\".format(result.success.sum() * 100 / (y_test.shape[0] - 2)))\n",
        "print(\"Success Rate Ret:{}\".format(result.success_ret.sum() / result.success.sum()))\n",
        "plt.scatter(result.target_ret, result.predict_ret_gold)\n",
        "plt.show()\n"
      ],
      "execution_count": 16,
      "outputs": [
        {
          "output_type": "stream",
          "text": [
            "(1035, 5)\n"
          ],
          "name": "stdout"
        },
        {
          "output_type": "display_data",
          "data": {
            "text/html": [
              "<div>\n",
              "<style scoped>\n",
              "    .dataframe tbody tr th:only-of-type {\n",
              "        vertical-align: middle;\n",
              "    }\n",
              "\n",
              "    .dataframe tbody tr th {\n",
              "        vertical-align: top;\n",
              "    }\n",
              "\n",
              "    .dataframe thead th {\n",
              "        text-align: right;\n",
              "    }\n",
              "</style>\n",
              "<table border=\"1\" class=\"dataframe\">\n",
              "  <thead>\n",
              "    <tr style=\"text-align: right;\">\n",
              "      <th></th>\n",
              "      <th>target</th>\n",
              "      <th>predict</th>\n",
              "      <th>predict_new</th>\n",
              "      <th>target_ret</th>\n",
              "      <th>predict_ret</th>\n",
              "      <th>predict_new_ret</th>\n",
              "      <th>predict_ret_gold</th>\n",
              "      <th>success</th>\n",
              "      <th>success_ret</th>\n",
              "    </tr>\n",
              "  </thead>\n",
              "  <tbody>\n",
              "    <tr>\n",
              "      <th>1</th>\n",
              "      <td>279.286025</td>\n",
              "      <td>280.702820</td>\n",
              "      <td>283.424561</td>\n",
              "      <td>-0.001256</td>\n",
              "      <td>0.000024</td>\n",
              "      <td>0.009627</td>\n",
              "      <td>0.009667</td>\n",
              "      <td>0</td>\n",
              "      <td>0.000000</td>\n",
              "    </tr>\n",
              "    <tr>\n",
              "      <th>2</th>\n",
              "      <td>278.885253</td>\n",
              "      <td>280.617981</td>\n",
              "      <td>283.442963</td>\n",
              "      <td>-0.001437</td>\n",
              "      <td>-0.000302</td>\n",
              "      <td>0.009667</td>\n",
              "      <td>0.009299</td>\n",
              "      <td>0</td>\n",
              "      <td>0.000000</td>\n",
              "    </tr>\n",
              "    <tr>\n",
              "      <th>3</th>\n",
              "      <td>279.436311</td>\n",
              "      <td>280.517059</td>\n",
              "      <td>283.251831</td>\n",
              "      <td>0.001972</td>\n",
              "      <td>-0.000360</td>\n",
              "      <td>0.009299</td>\n",
              "      <td>0.009573</td>\n",
              "      <td>1</td>\n",
              "      <td>0.001972</td>\n",
              "    </tr>\n",
              "    <tr>\n",
              "      <th>4</th>\n",
              "      <td>279.366167</td>\n",
              "      <td>280.498169</td>\n",
              "      <td>283.228363</td>\n",
              "      <td>-0.000251</td>\n",
              "      <td>-0.000067</td>\n",
              "      <td>0.009573</td>\n",
              "      <td>0.009578</td>\n",
              "      <td>0</td>\n",
              "      <td>0.000000</td>\n",
              "    </tr>\n",
              "    <tr>\n",
              "      <th>5</th>\n",
              "      <td>279.195854</td>\n",
              "      <td>280.443695</td>\n",
              "      <td>283.210724</td>\n",
              "      <td>-0.000610</td>\n",
              "      <td>-0.000194</td>\n",
              "      <td>0.009578</td>\n",
              "      <td>0.009719</td>\n",
              "      <td>0</td>\n",
              "      <td>0.000000</td>\n",
              "    </tr>\n",
              "    <tr>\n",
              "      <th>...</th>\n",
              "      <td>...</td>\n",
              "      <td>...</td>\n",
              "      <td>...</td>\n",
              "      <td>...</td>\n",
              "      <td>...</td>\n",
              "      <td>...</td>\n",
              "      <td>...</td>\n",
              "      <td>...</td>\n",
              "      <td>...</td>\n",
              "    </tr>\n",
              "    <tr>\n",
              "      <th>1029</th>\n",
              "      <td>285.437977</td>\n",
              "      <td>285.509338</td>\n",
              "      <td>288.255615</td>\n",
              "      <td>0.000562</td>\n",
              "      <td>0.002131</td>\n",
              "      <td>0.011638</td>\n",
              "      <td>0.011567</td>\n",
              "      <td>1</td>\n",
              "      <td>0.000562</td>\n",
              "    </tr>\n",
              "    <tr>\n",
              "      <th>1030</th>\n",
              "      <td>284.906917</td>\n",
              "      <td>286.076111</td>\n",
              "      <td>288.850342</td>\n",
              "      <td>-0.001864</td>\n",
              "      <td>0.001981</td>\n",
              "      <td>0.011567</td>\n",
              "      <td>0.010698</td>\n",
              "      <td>0</td>\n",
              "      <td>0.000000</td>\n",
              "    </tr>\n",
              "    <tr>\n",
              "      <th>1031</th>\n",
              "      <td>284.977060</td>\n",
              "      <td>286.345856</td>\n",
              "      <td>289.169647</td>\n",
              "      <td>0.000246</td>\n",
              "      <td>0.000942</td>\n",
              "      <td>0.010698</td>\n",
              "      <td>0.009374</td>\n",
              "      <td>1</td>\n",
              "      <td>0.000246</td>\n",
              "    </tr>\n",
              "    <tr>\n",
              "      <th>1032</th>\n",
              "      <td>284.836804</td>\n",
              "      <td>286.369995</td>\n",
              "      <td>289.055328</td>\n",
              "      <td>-0.000492</td>\n",
              "      <td>0.000084</td>\n",
              "      <td>0.009374</td>\n",
              "      <td>0.009128</td>\n",
              "      <td>0</td>\n",
              "      <td>0.000000</td>\n",
              "    </tr>\n",
              "    <tr>\n",
              "      <th>1033</th>\n",
              "      <td>285.668404</td>\n",
              "      <td>286.435272</td>\n",
              "      <td>289.008057</td>\n",
              "      <td>0.002911</td>\n",
              "      <td>0.000228</td>\n",
              "      <td>0.009128</td>\n",
              "      <td>0.009850</td>\n",
              "      <td>1</td>\n",
              "      <td>0.002911</td>\n",
              "    </tr>\n",
              "  </tbody>\n",
              "</table>\n",
              "<p>1033 rows × 9 columns</p>\n",
              "</div>"
            ],
            "text/plain": [
              "          target     predict  ...  success  success_ret\n",
              "1     279.286025  280.702820  ...        0     0.000000\n",
              "2     278.885253  280.617981  ...        0     0.000000\n",
              "3     279.436311  280.517059  ...        1     0.001972\n",
              "4     279.366167  280.498169  ...        0     0.000000\n",
              "5     279.195854  280.443695  ...        0     0.000000\n",
              "...          ...         ...  ...      ...          ...\n",
              "1029  285.437977  285.509338  ...        1     0.000562\n",
              "1030  284.906917  286.076111  ...        0     0.000000\n",
              "1031  284.977060  286.345856  ...        1     0.000246\n",
              "1032  284.836804  286.369995  ...        0     0.000000\n",
              "1033  285.668404  286.435272  ...        1     0.002911\n",
              "\n",
              "[1033 rows x 9 columns]"
            ]
          },
          "metadata": {
            "tags": []
          }
        },
        {
          "output_type": "display_data",
          "data": {
            "image/png": "[encoded data removed]",
            "text/plain": [
              "<Figure size 864x432 with 1 Axes>"
            ]
          },
          "metadata": {
            "tags": []
          }
        },
        {
          "output_type": "stream",
          "text": [
            "Success Rate:50.14520813165537\n",
            "Success Rate Ret:0.0020279742028347383\n"
          ],
          "name": "stdout"
        },
        {
          "output_type": "display_data",
          "data": {
            "image/png": "[encoded data removed]",
            "text/plain": [
              "<Figure size 864x432 with 1 Axes>"
            ]
          },
          "metadata": {
            "tags": []
          }
        }
      ]
    },
    {
      "cell_type": "code",
      "metadata": {
        "id": "hR6GRVEodXta",
        "colab_type": "code",
        "colab": {}
      },
      "source": [
        ""
      ],
      "execution_count": 0,
      "outputs": []
    }
  ]
}